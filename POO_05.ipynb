{
  "nbformat": 4,
  "nbformat_minor": 0,
  "metadata": {
    "colab": {
      "provenance": []
    },
    "kernelspec": {
      "name": "python3",
      "display_name": "Python 3"
    },
    "language_info": {
      "name": "python"
    }
  },
  "cells": [
    {
      "cell_type": "markdown",
      "source": [
        "#Clases, herencias y polimorfismos\n",
        "##Definiciones (Se usa def para declarar)"
      ],
      "metadata": {
        "id": "RLHqQzyake5e"
      }
    },
    {
      "cell_type": "code",
      "execution_count": 1,
      "metadata": {
        "id": "J73LRGcMkPci"
      },
      "outputs": [],
      "source": [
        "#Vamos a crear una defición (que es una función integrada en Phyton)\n",
        "def Milanesi(a,b,c):\n",
        "  x= a+b*c\n",
        "  return x"
      ]
    },
    {
      "cell_type": "code",
      "source": [
        "Milanesi(1,2,3)"
      ],
      "metadata": {
        "colab": {
          "base_uri": "https://localhost:8080/"
        },
        "id": "u1AgZzexpIzU",
        "outputId": "8d0c72bc-76e1-4a2e-c233-c6f550cc675d"
      },
      "execution_count": 2,
      "outputs": [
        {
          "output_type": "execute_result",
          "data": {
            "text/plain": [
              "7"
            ]
          },
          "metadata": {},
          "execution_count": 2
        }
      ]
    },
    {
      "cell_type": "code",
      "source": [
        "#Vamos a crear una definición que calcule la inversa de una matriz.\n",
        "import numpy as np\n",
        "\n",
        "\n",
        "def Inv_Matrix(M):\n",
        "    x=np.linalg.inv(M)\n",
        "    return x\n"
      ],
      "metadata": {
        "id": "LNtY0NSmpcIK"
      },
      "execution_count": 3,
      "outputs": []
    },
    {
      "cell_type": "code",
      "source": [
        "matrix=np.random.randint(low=1,high=20,size=(3,3))\n",
        "matrix\n"
      ],
      "metadata": {
        "colab": {
          "base_uri": "https://localhost:8080/"
        },
        "id": "d6fIdUUfq-XY",
        "outputId": "881d6885-9a32-47cb-bbfc-e3c1eed62d1f"
      },
      "execution_count": 4,
      "outputs": [
        {
          "output_type": "execute_result",
          "data": {
            "text/plain": [
              "array([[ 1,  1, 10],\n",
              "       [ 6,  1,  2],\n",
              "       [15, 12,  8]])"
            ]
          },
          "metadata": {},
          "execution_count": 4
        }
      ]
    },
    {
      "cell_type": "code",
      "source": [
        "Inv_Matrix(matrix)\n"
      ],
      "metadata": {
        "colab": {
          "base_uri": "https://localhost:8080/"
        },
        "id": "RU0LQR6vr6_N",
        "outputId": "50cd9cef-f665-4167-c696-d11a07edcf58"
      },
      "execution_count": 5,
      "outputs": [
        {
          "output_type": "execute_result",
          "data": {
            "text/plain": [
              "array([[-0.02985075,  0.20895522, -0.01492537],\n",
              "       [-0.03358209, -0.26492537,  0.10820896],\n",
              "       [ 0.10634328,  0.00559701, -0.00932836]])"
            ]
          },
          "metadata": {},
          "execution_count": 5
        }
      ]
    },
    {
      "cell_type": "code",
      "source": [
        "np.linalg.det(matrix)"
      ],
      "metadata": {
        "colab": {
          "base_uri": "https://localhost:8080/"
        },
        "id": "SIemJPA0thbY",
        "outputId": "b00bd5f6-68fa-4be0-d5b8-a88984047b45"
      },
      "execution_count": 6,
      "outputs": [
        {
          "output_type": "execute_result",
          "data": {
            "text/plain": [
              "536.0000000000005"
            ]
          },
          "metadata": {},
          "execution_count": 6
        }
      ]
    }
  ]
}