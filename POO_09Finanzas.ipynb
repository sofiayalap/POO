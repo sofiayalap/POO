{
  "nbformat": 4,
  "nbformat_minor": 0,
  "metadata": {
    "colab": {
      "provenance": []
    },
    "kernelspec": {
      "name": "python3",
      "display_name": "Python 3"
    },
    "language_info": {
      "name": "python"
    }
  },
  "cells": [
    {
      "cell_type": "code",
      "source": [
        "class CuentaBancaria:\n",
        "    def __init__(self, cuenta_no, fecha_de_apertura, balance, cliente):\n",
        "        self.cuenta_no = cuenta_no\n",
        "        self.fecha_de_apertura  = fecha_de_apertura\n",
        "        self.balance = balance\n",
        "        self.cliente = cliente\n",
        "\n",
        "#atributos, métodos o funciones\n",
        "    def deposito(self, monto):\n",
        "        self.balance += monto # += no estas declarando la variable, sino que el balance va a cambiar dependiendo el monto\n",
        "        print(f\"${monto} ha sido depositado a tu cuenta.\") #la f va a guardar el dato del monto\n",
        "\n",
        "    def seleccionar(self, monto):\n",
        "        if monto > self.balance: #si el monto es mayor que el balance, imprimir \"Balance Insuficiente\"\n",
        "            print(\"Balance Insuficiente.\")\n",
        "        else:\n",
        "            self.balance -= monto\n",
        "            print(f\"${monto} ha sido seleccionado de tu cuenta.\")\n",
        "\n",
        "    def verificar_balance(self):\n",
        "        print(f\"El balance actual es ${self.balance}.\")\n",
        "\n",
        "    def print_detalles(self):\n",
        "        print(\"Nombre:\", self.cliente)\n",
        "        print(\"Numero cuenta:\", self.cuenta_no)\n",
        "        print(\"Fecha de apertura:\", self.fecha_de_apertura)\n",
        "        print(f\"Balance: ${self.balance}\\n\") #f es para que se empiece a imprimir los resultados y la \\n es para cerrar como string.\n",
        "\n",
        "\n",
        "#Crear cursores\n",
        "cursor_1 = CuentaBancaria(2345, \"01-01-2011\", 1000, \"Cesar\")\n",
        "cursor_2 = CuentaBancaria(1234, \"11-03-2011\", 2000, \"Galindo\")\n",
        "\n",
        "#Impresiones\n",
        "print(\"Detalles:\")\n",
        "cursor_1.print_detalles()\n",
        "cursor_2.print_detalles()\n",
        "\n",
        "\n",
        "print(\"=============================\")#Cuando pones puros iguales significa que todo lo de abajo se va a imprimir y va a marcar una línea divisora.\n",
        "cursor_2.print_detalles()\n",
        "\n",
        "cursor_2.deposito(1000)\n",
        "cursor_2.verificar_balance()\n",
        "\n",
        "cursor_2.seleccionar(5000)\n",
        "\n",
        "cursor_2.seleccionar(3400)\n",
        "cursor_2.verificar_balance()"
      ],
      "metadata": {
        "colab": {
          "base_uri": "https://localhost:8080/"
        },
        "id": "BPT3yQ_q0xl5",
        "outputId": "4e4c4df5-2fdd-4a7a-bb08-9325f79ff365"
      },
      "execution_count": 2,
      "outputs": [
        {
          "output_type": "stream",
          "name": "stdout",
          "text": [
            "Detalles:\n",
            "Nombre: Cesar\n",
            "Numero cuenta: 2345\n",
            "Fecha de apertura: 01-01-2011\n",
            "Balance: $1000\n",
            "\n",
            "Nombre: Galindo\n",
            "Numero cuenta: 1234\n",
            "Fecha de apertura: 11-03-2011\n",
            "Balance: $2000\n",
            "\n",
            "=============================\n",
            "Nombre: Galindo\n",
            "Numero cuenta: 1234\n",
            "Fecha de apertura: 11-03-2011\n",
            "Balance: $2000\n",
            "\n",
            "$1000 ha sido depositado a tu cuenta.\n",
            "El balance actual es $3000.\n",
            "Balance Insuficiente.\n",
            "Balance Insuficiente.\n",
            "El balance actual es $3000.\n"
          ]
        }
      ]
    },
    {
      "cell_type": "code",
      "execution_count": 1,
      "metadata": {
        "id": "lkBseQYw0pLu"
      },
      "outputs": [],
      "source": [
        "from datetime import datetime #Esta libreria crea datos fechados (fechas por día, por semana, por min, etc)\n",
        "\n",
        "import yfinance as yf #yahoo finance\n",
        "\n",
        "class Asset: #Creamos una clase llamada Asset\n",
        "    def __init__(self, ticker, start_date, end_date = datetime.today().strftime('%Y-%m-%d')): #Esta especificando que solo quiere año, mes y día\n",
        "        self.ticker = ticker\n",
        "        self.start_date = start_date\n",
        "        self.end_date = end_date\n",
        "\n",
        "    def get_data(self):\n",
        "        df = yf.download(self.ticker, start = self.start_date, end = self.end_date)\n",
        "        return df\n",
        "\n",
        "    def  simple_returns(self, adj = False, cum = False): #Calcular los rendimientos simples\n",
        "        df = self.get_data()\n",
        "        if adj: #adj= precios de cierre ajustados\n",
        "            simple_returns = df[\"Adj Close\"].pct_change().dropna()\n",
        "        else:\n",
        "            simple_returns = df[\"Close\"].pct_change().dropna()\n",
        "        if cum: #cum= precios acumulados\n",
        "            simple_returns = (1 + simple_returns).cumprod() - 1\n",
        "        return simple_returns"
      ]
    }
  ]
}