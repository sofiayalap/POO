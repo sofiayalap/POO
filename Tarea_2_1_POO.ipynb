{
  "nbformat": 4,
  "nbformat_minor": 0,
  "metadata": {
    "colab": {
      "provenance": []
    },
    "kernelspec": {
      "name": "python3",
      "display_name": "Python 3"
    },
    "language_info": {
      "name": "python"
    }
  },
  "cells": [
    {
      "cell_type": "markdown",
      "source": [
        "## Tarea Sofía Ayala e Iresi Hernandéz\n",
        "### Instrucciones:\n",
        "\n",
        "\n",
        "*   La tarea se entrega individualmente.\n",
        "*   Leer los lineamientos e instrucciones que se enuentran en Moodle.\n",
        "*   Sube tu Notebook a tu GitHub\n",
        "*  La entrega se hace por Moodle compartiendo tu liga a GitHub.\n",
        "*  Fecha de entrega  **Martes 26 de septiembre antes de las 20:00hrs**\n",
        "*  Si existiera duda alguna, mandarlas por email.\n",
        "\n"
      ],
      "metadata": {
        "id": "-DR7LcQd27OM"
      }
    },
    {
      "cell_type": "code",
      "source": [
        "# Crea una clase que se llame Animal\n",
        "class Animal ():\n",
        "# define un inicializador que contenga dos argumentos (a y b) que asignarás\n",
        "    def _init_(self, tamaño, raza):\n",
        "      self.tamaño = tamaño\n",
        "      self.raza = raza\n",
        "\n",
        "\n",
        "# Crea una clase heredada que se llame Mascota\n",
        "class Mascota(Animal):\n",
        "    def _init_(self, tamaño, raza):\n",
        "    # usar super(), (objeto temporal de la superclase) nos permite acceder a métodos de la clase madre\n",
        "      super()._init_(color,nombre)\n",
        "\n",
        "\n",
        "    # define tres métodos asociados a Mascota\n",
        "    def Nombre (self, nombre):\n",
        "        print(\"Soy un perro\")\n",
        ""
      ],
      "metadata": {
        "id": "scsnMvfv7MXN"
      },
      "execution_count": 16,
      "outputs": []
    },
    {
      "cell_type": "code",
      "source": [
        "# Crea dos clases que tengan asignados nombres de Países.\n",
        "class Mexico():\n",
        "  def __init__(self, capital, idioma, continente):\n",
        "    self.capital = capital\n",
        "    self.idioma = idioma\n",
        "    self.continente = continente\n",
        "\n",
        "class Francia():\n",
        "  def _init_(self, capital, idioma, continente):\n",
        "    self.capital = capital\n",
        "    self.idioma = idioma\n",
        "    self.continente = continente\n",
        "# Para cada clase, define al menos tres características del País considerado: por ejemplo, capital, idioma, etcétera\n",
        "def MexicoId(self):\n",
        "    print (\"En Mexico se habla español\")\n",
        "\n",
        "def MexicoCap(self):\n",
        "    print (\"La capital de Mexico es la Ciudad de México\")\n",
        "\n",
        "def MexicoCont(self):\n",
        "    print (\"Mexico esta en America\")\n",
        "\n",
        "def FranciaID(self):\n",
        "    print (\"En Francia se habla frances\")\n",
        "\n",
        "def FranciaCap(self):\n",
        "    print (\"La capital de Francia es Paris\")\n",
        "\n",
        "def FranciaCont(self):\n",
        "    print (\"Austria esta en Europa\")\n",
        "\n",
        "# Define dos variables que sean cursores\n",
        "var1= MexicoCap(\"CDMX\")\n",
        "var2 = FranciaCap(\"Paris\")\n",
        "var3 = FranciaID(\"Frances\")\n",
        "\n",
        "\n",
        "# Comenta tus resultados\n",
        "#Lo que se hizo aqui es se definio cada pais e información de ellos como su capital, idioma y continente para que cuando preguntaras la variable te responda, ejemplo variable 2, te dice cual es la capital de Francia"
      ],
      "metadata": {
        "id": "ZielRh0TBBEv",
        "colab": {
          "base_uri": "https://localhost:8080/"
        },
        "outputId": "459d9237-14d6-459d-c43b-0b1b02172b7b"
      },
      "execution_count": 4,
      "outputs": [
        {
          "output_type": "stream",
          "name": "stdout",
          "text": [
            "La capital de Mexico es la Ciudad de México\n",
            "La capital de Francia es Paris\n",
            "En Francia se habla frances\n"
          ]
        }
      ]
    },
    {
      "cell_type": "code",
      "execution_count": 5,
      "metadata": {
        "id": "3d4VtN9D7FWB"
      },
      "outputs": [],
      "source": [
        "## Ejemplo de polimorfismo de clase y herencia.\n",
        "import math\n",
        "# Crea una clase madre que se llame Forma\n",
        "class forma():\n",
        "  def __init__(self):\n",
        "        pass\n",
        "\n",
        "  def area(self):\n",
        "        pass\n",
        "\n",
        "  def perimetro(self):\n",
        "        pass\n",
        "\n",
        "class Circulo(forma):\n",
        "    def __init__(self, radio):\n",
        "        self.radio = radio\n",
        "\n",
        "    def area(self):\n",
        "        return math.pi * self.radio ** 2\n",
        "\n",
        "    def perimetro(self):\n",
        "        return 2 * math.pi * self.radio\n",
        "\n",
        "\n",
        "class Cuadrado(forma):\n",
        "    def __init__(self, lado):\n",
        "        self.lado = lado\n",
        "\n",
        "    def area(self):\n",
        "        return self.lado ** 2\n",
        "\n",
        "    def perimetro(self):\n",
        "        return 4 * self.lado\n"
      ]
    },
    {
      "cell_type": "code",
      "source": [
        "# Crea dos clases heredadas de la clase madre Forma que calcule el área y el perímetro de un círculo\n",
        "circulo = Circulo (9)\n",
        "cuadrado = Cuadrado (4)"
      ],
      "metadata": {
        "id": "GBYXFnca6aCS"
      },
      "execution_count": 11,
      "outputs": []
    },
    {
      "cell_type": "code",
      "source": [
        "circulo.area()"
      ],
      "metadata": {
        "colab": {
          "base_uri": "https://localhost:8080/"
        },
        "id": "JPkYfcYB6dyn",
        "outputId": "312c1baa-1234-492f-d358-27ec29568f65"
      },
      "execution_count": 12,
      "outputs": [
        {
          "output_type": "execute_result",
          "data": {
            "text/plain": [
              "254.46900494077323"
            ]
          },
          "metadata": {},
          "execution_count": 12
        }
      ]
    },
    {
      "cell_type": "code",
      "source": [
        "circulo.perimetro()"
      ],
      "metadata": {
        "colab": {
          "base_uri": "https://localhost:8080/"
        },
        "id": "jWpEeCEv6gxc",
        "outputId": "f41f10ba-fe9b-4048-a090-785a396fac2f"
      },
      "execution_count": 13,
      "outputs": [
        {
          "output_type": "execute_result",
          "data": {
            "text/plain": [
              "56.548667764616276"
            ]
          },
          "metadata": {},
          "execution_count": 13
        }
      ]
    },
    {
      "cell_type": "code",
      "source": [
        "# y de un cuadrado, respectivamente.\n",
        "cuadrado.perimetro()"
      ],
      "metadata": {
        "colab": {
          "base_uri": "https://localhost:8080/"
        },
        "id": "QgL_JsKL6mFa",
        "outputId": "75a03444-cd3f-45a6-eb1a-4dca09560611"
      },
      "execution_count": 14,
      "outputs": [
        {
          "output_type": "execute_result",
          "data": {
            "text/plain": [
              "16"
            ]
          },
          "metadata": {},
          "execution_count": 14
        }
      ]
    },
    {
      "cell_type": "code",
      "source": [
        "cuadrado.area()"
      ],
      "metadata": {
        "colab": {
          "base_uri": "https://localhost:8080/"
        },
        "id": "r5ktV0iM6v_M",
        "outputId": "1fac1825-dc2f-4d26-ae72-5fdb06c28fd3"
      },
      "execution_count": 15,
      "outputs": [
        {
          "output_type": "execute_result",
          "data": {
            "text/plain": [
              "16"
            ]
          },
          "metadata": {},
          "execution_count": 15
        }
      ]
    }
  ]
}