{
  "cells": [
    {
      "cell_type": "markdown",
      "metadata": {
        "id": "HY887tezoANO"
      },
      "source": [
        "# OOP - Inheritance and Polymorphism in Python"
      ]
    },
    {
      "cell_type": "code",
      "execution_count": 18,
      "metadata": {
        "id": "pxLRgSSxoANR"
      },
      "outputs": [],
      "source": [
        "#CLASE MAESTRA\n",
        "class Animal(): #Objeto al que se le asignaran distintos atributos\n",
        "\n",
        "    def __init__(self): #Inicializar la clase  #\"Self\" es autoasignación\n",
        "        print(\"Animal class creada\")\n",
        "\n",
        "    def guess_who(self):\n",
        "        print(\"Soy un animalito\")\n",
        "\n",
        "    def sleep(self):\n",
        "        print(\"Estoy durmiendo\")"
      ]
    },
    {
      "cell_type": "code",
      "execution_count": 19,
      "metadata": {
        "id": "nEmsoWZgoANR",
        "outputId": "a67db539-e973-4672-9f3a-490d93c313c8",
        "colab": {
          "base_uri": "https://localhost:8080/"
        }
      },
      "outputs": [
        {
          "output_type": "stream",
          "name": "stdout",
          "text": [
            "Animal class creada\n"
          ]
        }
      ],
      "source": [
        "my_animal = Animal() #Cuando no ponemos nada adentro se llama \"cursor\""
      ]
    },
    {
      "cell_type": "code",
      "execution_count": 20,
      "metadata": {
        "id": "1E85DdT4oANS",
        "outputId": "9ecc2117-6819-41e6-8598-7756834e2ce7",
        "colab": {
          "base_uri": "https://localhost:8080/"
        }
      },
      "outputs": [
        {
          "output_type": "stream",
          "name": "stdout",
          "text": [
            "Estoy durmiendo\n"
          ]
        }
      ],
      "source": [
        "my_animal.sleep() #Ingresar a la función \"sleep\" a la clase #El punto es para ingresar a la función de la clase"
      ]
    },
    {
      "cell_type": "code",
      "execution_count": 21,
      "metadata": {
        "id": "1pMg4fJ3oANS"
      },
      "outputs": [],
      "source": [
        "#CLASE HERENCIA\n",
        "class Cat(Animal): #Esta nueva clase se obtiene a partir de (la clase anterior o clase maestra), subordinando a ésta.\n",
        "\n",
        "    def __init__(self): #Inicializar funciones dentro de la clase Cat\n",
        "        Animal.__init__(self)#Inizializa la clase maestra dentro de la subordinada\n",
        "        print(\"Cat class creada\")\n",
        "\n",
        "    def guess_who(self):\n",
        "        print(\"Soy un gatito\")\n",
        "\n",
        "    def meow(self):\n",
        "        print(\"MEOWW!\")"
      ]
    },
    {
      "cell_type": "code",
      "execution_count": 22,
      "metadata": {
        "id": "d_GJe14ioANT",
        "outputId": "68fa4f53-9eaa-4616-c635-6359fede0554",
        "colab": {
          "base_uri": "https://localhost:8080/"
        }
      },
      "outputs": [
        {
          "output_type": "stream",
          "name": "stdout",
          "text": [
            "Animal class creada\n",
            "Cat class creada\n"
          ]
        }
      ],
      "source": [
        "my_cat = Cat() #Este cursor es de la clase heredada"
      ]
    },
    {
      "cell_type": "code",
      "execution_count": 23,
      "metadata": {
        "id": "Q_F54Py6oANT",
        "outputId": "aac750ce-5c00-469e-be3e-b669c5c269c9",
        "colab": {
          "base_uri": "https://localhost:8080/"
        }
      },
      "outputs": [
        {
          "output_type": "stream",
          "name": "stdout",
          "text": [
            "Soy un gatito\n"
          ]
        }
      ],
      "source": [
        "my_cat.guess_who()"
      ]
    },
    {
      "cell_type": "code",
      "execution_count": 24,
      "metadata": {
        "id": "Pt4MmGPOoANT",
        "outputId": "29a622d5-83a7-4788-d910-a30f48d76728",
        "colab": {
          "base_uri": "https://localhost:8080/"
        }
      },
      "outputs": [
        {
          "output_type": "stream",
          "name": "stdout",
          "text": [
            "MEOWW!\n"
          ]
        }
      ],
      "source": [
        "my_cat.meow() #Este cursor me va a decir a que clase pertenece (es la clase heredada, no la clase madre)"
      ]
    },
    {
      "cell_type": "markdown",
      "metadata": {
        "id": "2-RCIT2OoANT"
      },
      "source": [
        "## Polymorphism\n",
        "###Un polimorfismo es una función que puede tomar distintos valores\n",
        "\n"
      ]
    },
    {
      "cell_type": "code",
      "execution_count": 25,
      "metadata": {
        "id": "3doTm2KgoANU"
      },
      "outputs": [],
      "source": [
        "class Doggy(): #Las clases con polimorfismos son definiciones con argumentos\n",
        "\n",
        "    def __init__(self,name, raza):\n",
        "        self.name = name #argumentos\n",
        "        self.raza= raza  #argumentos\n",
        "\n",
        "    def speak(self): #Esta definición es un polimorfismo\n",
        "        return self.name + \" says WOOF\""
      ]
    },
    {
      "cell_type": "code",
      "execution_count": 30,
      "metadata": {
        "id": "nGiW3SdboANU"
      },
      "outputs": [],
      "source": [
        "class Catty():\n",
        "\n",
        "    def __init__(self,name, raza):\n",
        "        self.name = name\n",
        "        self.raza= raza\n",
        "\n",
        "    def speak(self):\n",
        "        return self.name + \" says MEOW\""
      ]
    },
    {
      "cell_type": "code",
      "execution_count": 35,
      "metadata": {
        "id": "p5JWA0i6oANU"
      },
      "outputs": [],
      "source": [
        "my_dog = Doggy(\"Buzo\",\"Dalmata\")\n",
        "my_cat = Catty(\"Tim\", \"Persa\")"
      ]
    },
    {
      "cell_type": "code",
      "execution_count": 36,
      "metadata": {
        "id": "4FYvR1ZFoANU",
        "outputId": "67bb1af1-914f-46c3-c3cd-ec225efe16c9",
        "colab": {
          "base_uri": "https://localhost:8080/"
        }
      },
      "outputs": [
        {
          "output_type": "stream",
          "name": "stdout",
          "text": [
            "Buzo says WOOF\n"
          ]
        }
      ],
      "source": [
        "print(my_dog.speak())"
      ]
    },
    {
      "cell_type": "code",
      "execution_count": 37,
      "metadata": {
        "id": "GDPh4tBYoANU",
        "outputId": "3120744e-79aa-4d32-f551-1d6d636ee118",
        "colab": {
          "base_uri": "https://localhost:8080/"
        }
      },
      "outputs": [
        {
          "output_type": "stream",
          "name": "stdout",
          "text": [
            "Tim says MEOW\n"
          ]
        }
      ],
      "source": [
        "print(my_cat.speak())"
      ]
    },
    {
      "cell_type": "markdown",
      "metadata": {
        "id": "wtIpBDWyoANU"
      },
      "source": [
        "So notice that \"my_dog\" and \"my_cat\" have the same method name called \"speak\" but they have different types of class as seen."
      ]
    },
    {
      "cell_type": "code",
      "execution_count": 38,
      "metadata": {
        "id": "zYHlZlE_oANU",
        "outputId": "158a773e-7837-41bf-db0b-c5f58e3a7585",
        "colab": {
          "base_uri": "https://localhost:8080/"
        }
      },
      "outputs": [
        {
          "output_type": "stream",
          "name": "stdout",
          "text": [
            "<class '__main__.Doggy'>\n",
            "<class 'str'>\n",
            "Buzo says WOOF\n",
            "<class '__main__.Catty'>\n",
            "<class 'str'>\n",
            "Tim says MEOW\n"
          ]
        }
      ],
      "source": [
        "for pet in [my_dog, my_cat]:\n",
        "    print(type(pet))\n",
        "    print(type(pet.speak()))\n",
        "    print(pet.speak())"
      ]
    },
    {
      "cell_type": "markdown",
      "source": [
        "##Crearemos una clase llamada Messi cuyos argumentos son:\n",
        "-Nombre\n",
        "\n",
        "-guess who\n",
        "\n",
        "-goles en BCN\n",
        "\n",
        "\n",
        "\n",
        "\n"
      ],
      "metadata": {
        "id": "J0R5Y7a5pT64"
      }
    },
    {
      "cell_type": "code",
      "source": [
        "class Messi():\n",
        "\n",
        "    def __init__(self):\n",
        "        print(\"La clase Messi se ha creado\")\n",
        "\n",
        "    def guess_who(self):\n",
        "        print(\"Yo soy Messi\")\n",
        "\n",
        "    def goles(self):\n",
        "        print(\"Llevo 35 goles de liga del 2014-2020\")\n",
        "\n"
      ],
      "metadata": {
        "id": "gK0VqPBUq8U7"
      },
      "execution_count": 42,
      "outputs": []
    },
    {
      "cell_type": "code",
      "source": [
        "messi = Messi() # cursor\n",
        "messi"
      ],
      "metadata": {
        "colab": {
          "base_uri": "https://localhost:8080/"
        },
        "id": "Zvzi-8SFrs4y",
        "outputId": "ee4ec34d-6d22-4e03-eaa1-2bc5b1c622c6"
      },
      "execution_count": 43,
      "outputs": [
        {
          "output_type": "stream",
          "name": "stdout",
          "text": [
            "La clase Messi se ha creado\n"
          ]
        },
        {
          "output_type": "execute_result",
          "data": {
            "text/plain": [
              "<__main__.Messi at 0x7b2901056830>"
            ]
          },
          "metadata": {},
          "execution_count": 43
        }
      ]
    },
    {
      "cell_type": "code",
      "source": [
        "messi.guess_who()"
      ],
      "metadata": {
        "colab": {
          "base_uri": "https://localhost:8080/"
        },
        "id": "DAficSycr51W",
        "outputId": "75707d37-278a-46db-ca5f-58b1035ef8a6"
      },
      "execution_count": 44,
      "outputs": [
        {
          "output_type": "stream",
          "name": "stdout",
          "text": [
            "Yo soy Messi\n"
          ]
        }
      ]
    },
    {
      "cell_type": "code",
      "source": [
        "messi.goles()"
      ],
      "metadata": {
        "colab": {
          "base_uri": "https://localhost:8080/"
        },
        "id": "DieeiN0fr989",
        "outputId": "bd8f6168-b528-4859-fc92-9830712e7a6b"
      },
      "execution_count": 45,
      "outputs": [
        {
          "output_type": "stream",
          "name": "stdout",
          "text": [
            "Llevo 35 goles de liga del 2014-2020\n"
          ]
        }
      ]
    },
    {
      "cell_type": "markdown",
      "source": [
        "##Ahora creamos una nueva clase con polimorfismos para Messi"
      ],
      "metadata": {
        "id": "5GPAyXM4tF-M"
      }
    },
    {
      "cell_type": "code",
      "source": [
        "class Messi_bcn():\n",
        "\n",
        "    def __init__(self, name, goles, campeonatos):\n",
        "        self.name = name\n",
        "        self.goles = goles\n",
        "        self.campeonatos = campeonatos\n",
        "\n",
        "    def nombre(self):\n",
        "        return self.name + \"soy Messi\"\n",
        "\n",
        "    def goles(self):\n",
        "        return self.goles + \"819\"\n",
        "\n",
        "    def campeonatos(self):\n",
        "        return self.campeonatos + \"43 en total\""
      ],
      "metadata": {
        "id": "6qWZ5rT5tDXy"
      },
      "execution_count": 46,
      "outputs": []
    },
    {
      "cell_type": "code",
      "source": [
        "messi = Messi_bcn(\"Messi\", 819, 43)\n",
        "messi"
      ],
      "metadata": {
        "colab": {
          "base_uri": "https://localhost:8080/"
        },
        "id": "_xjjfu9dtNlV",
        "outputId": "d56fed60-efe0-4f07-93f2-89479f6fe19c"
      },
      "execution_count": 47,
      "outputs": [
        {
          "output_type": "execute_result",
          "data": {
            "text/plain": [
              "<__main__.Messi_bcn at 0x7b29010563e0>"
            ]
          },
          "metadata": {},
          "execution_count": 47
        }
      ]
    },
    {
      "cell_type": "code",
      "source": [
        "messi.name"
      ],
      "metadata": {
        "colab": {
          "base_uri": "https://localhost:8080/",
          "height": 36
        },
        "id": "mI8-vahGtQ4N",
        "outputId": "f5142f48-976d-47ba-992e-4b9b1f707d63"
      },
      "execution_count": 48,
      "outputs": [
        {
          "output_type": "execute_result",
          "data": {
            "text/plain": [
              "'Messi'"
            ],
            "application/vnd.google.colaboratory.intrinsic+json": {
              "type": "string"
            }
          },
          "metadata": {},
          "execution_count": 48
        }
      ]
    },
    {
      "cell_type": "code",
      "source": [
        "messi.goles"
      ],
      "metadata": {
        "colab": {
          "base_uri": "https://localhost:8080/"
        },
        "id": "CJcCnK3JtULG",
        "outputId": "b084455e-d83a-423c-ee27-7d33b6c62d93"
      },
      "execution_count": 49,
      "outputs": [
        {
          "output_type": "execute_result",
          "data": {
            "text/plain": [
              "819"
            ]
          },
          "metadata": {},
          "execution_count": 49
        }
      ]
    },
    {
      "cell_type": "code",
      "source": [
        "messi.campeonatos"
      ],
      "metadata": {
        "colab": {
          "base_uri": "https://localhost:8080/"
        },
        "id": "PJOrIkXctXDd",
        "outputId": "c91f14f3-e9ec-43a4-c5aa-0f265ca36a6d"
      },
      "execution_count": 50,
      "outputs": [
        {
          "output_type": "execute_result",
          "data": {
            "text/plain": [
              "43"
            ]
          },
          "metadata": {},
          "execution_count": 50
        }
      ]
    }
  ],
  "metadata": {
    "kernelspec": {
      "display_name": "Python 3",
      "language": "python",
      "name": "python3"
    },
    "language_info": {
      "codemirror_mode": {
        "name": "ipython",
        "version": 3
      },
      "file_extension": ".py",
      "mimetype": "text/x-python",
      "name": "python",
      "nbconvert_exporter": "python",
      "pygments_lexer": "ipython3",
      "version": "3.7.7"
    },
    "colab": {
      "provenance": []
    }
  },
  "nbformat": 4,
  "nbformat_minor": 0
}