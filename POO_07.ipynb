{
  "nbformat": 4,
  "nbformat_minor": 0,
  "metadata": {
    "colab": {
      "provenance": []
    },
    "kernelspec": {
      "name": "python3",
      "display_name": "Python 3"
    },
    "language_info": {
      "name": "python"
    }
  },
  "cells": [
    {
      "cell_type": "markdown",
      "source": [
        "#Condicionales: If...elif...else"
      ],
      "metadata": {
        "id": "45R6y_bgcRY7"
      }
    },
    {
      "cell_type": "code",
      "execution_count": 8,
      "metadata": {
        "colab": {
          "base_uri": "https://localhost:8080/"
        },
        "id": "dndpOZENcO_B",
        "outputId": "9862f4d4-5fb5-4a4e-c5c4-17bff6a78f48"
      },
      "outputs": [
        {
          "output_type": "stream",
          "name": "stdout",
          "text": [
            "La letra es A\n"
          ]
        }
      ],
      "source": [
        "letra=\"A\"\n",
        "\n",
        "if letra ==\"B\":\n",
        "  print(\"La letra es B\")\n",
        "elif letra==\"C\":\n",
        "  print(\"La letra es C\")\n",
        "elif letra ==\"A\":\n",
        "  print(\"La letra es A\")\n",
        "else:\n",
        "  print(\"La letra no es A ni B ni C\")"
      ]
    },
    {
      "cell_type": "markdown",
      "source": [
        "#Ejemplo 2"
      ],
      "metadata": {
        "id": "CWATjAVpdXWE"
      }
    },
    {
      "cell_type": "code",
      "source": [
        "número= int(input(\" Escribe un número \")) #El input interactúa con el usuario"
      ],
      "metadata": {
        "id": "loFLKTBBdVoG",
        "colab": {
          "base_uri": "https://localhost:8080/"
        },
        "outputId": "4f0778e7-c395-47d2-c9c5-6b075b751efc"
      },
      "execution_count": 9,
      "outputs": [
        {
          "name": "stdout",
          "output_type": "stream",
          "text": [
            " Escribe un número 6\n"
          ]
        }
      ]
    },
    {
      "cell_type": "code",
      "source": [
        "if número % 2 == 0 and número % 4 !=0:\n",
        "  print(f\"{número} es múltiplo de dos\") #La f es para que te guarde el número como un string\n",
        "elif número % 4 == 0:\n",
        "   print(f\"{número} es múltiplo de cuatro y de dos\")\n",
        "else:\n",
        "   print(f\"{número} no es múltiplo de dos\")"
      ],
      "metadata": {
        "colab": {
          "base_uri": "https://localhost:8080/"
        },
        "id": "QD5KlXeQhH8Z",
        "outputId": "88348dd0-bd09-4285-e5a1-522351bb532f"
      },
      "execution_count": 10,
      "outputs": [
        {
          "output_type": "stream",
          "name": "stdout",
          "text": [
            "6 es múltiplo de dos\n"
          ]
        }
      ]
    },
    {
      "cell_type": "markdown",
      "source": [
        "#Ejercicio para asistencia\n"
      ],
      "metadata": {
        "id": "ZcYt1SFihNwZ"
      }
    },
    {
      "cell_type": "code",
      "source": [
        "calif= int(input(\" Escribe un tu calificación \"))\n",
        "\n",
        "if calif == 10:\n",
        "   print(f\"{calif} Excelente calificación\")\n",
        "elif calif >= 6:\n",
        "  print(f\"{calif} Pasaste la materia\") #La f es para que te guarde el número como un string\n",
        "else:\n",
        "   print(f\"{calif} Reprobaste la materia\")"
      ],
      "metadata": {
        "colab": {
          "base_uri": "https://localhost:8080/"
        },
        "id": "XUjCJxJ0hM6T",
        "outputId": "e86cc905-a0b7-4246-a122-8f889eda3fc0"
      },
      "execution_count": 16,
      "outputs": [
        {
          "output_type": "stream",
          "name": "stdout",
          "text": [
            " Escribe un tu calificación 5\n",
            "5 Reprobaste la materia\n"
          ]
        }
      ]
    },
    {
      "cell_type": "markdown",
      "source": [
        "#Clases y Polimorfismo\n"
      ],
      "metadata": {
        "id": "LmlrXaD_lac8"
      }
    },
    {
      "cell_type": "code",
      "source": [
        "#Class(Nombre)\n",
        "  #self ---> autoasigna una variable\n",
        "  #def\n",
        "\n",
        "class Mascota:\n",
        "  def hable(self):\n",
        "    return NotImplementedError\n",
        "\n",
        "class Perro(Mascota):\n",
        "  def hable(self):\n",
        "    return \"Woof\"\n",
        "\n",
        "class Gato(Mascota):\n",
        "  def hable(self):\n",
        "    return \"Miau\""
      ],
      "metadata": {
        "id": "KSOZpRwLlfow"
      },
      "execution_count": 18,
      "outputs": []
    },
    {
      "cell_type": "code",
      "source": [
        "#Vamos a crear una lista de Mascotas\n",
        "mascotas= [Perro(), Gato()] #Generador de objetos dentro de la clase"
      ],
      "metadata": {
        "id": "2yBV7buBoEFJ"
      },
      "execution_count": 20,
      "outputs": []
    },
    {
      "cell_type": "code",
      "source": [
        "mascotas"
      ],
      "metadata": {
        "colab": {
          "base_uri": "https://localhost:8080/"
        },
        "id": "_2lgtL-FojN3",
        "outputId": "d9e8a6c7-eebc-4fc5-9d8e-49210c0b8604"
      },
      "execution_count": 21,
      "outputs": [
        {
          "output_type": "execute_result",
          "data": {
            "text/plain": [
              "[<__main__.Perro at 0x7904fd309f00>, <__main__.Gato at 0x7904fd30bdf0>]"
            ]
          },
          "metadata": {},
          "execution_count": 21
        }
      ]
    },
    {
      "cell_type": "code",
      "source": [
        "for mascotas in mascotas:\n",
        "  print(mascotas.hable())"
      ],
      "metadata": {
        "colab": {
          "base_uri": "https://localhost:8080/"
        },
        "id": "xVxfbTlCppeV",
        "outputId": "c3945b04-b0e5-4096-ea69-251ec7600786"
      },
      "execution_count": 22,
      "outputs": [
        {
          "output_type": "stream",
          "name": "stdout",
          "text": [
            "Woof\n",
            "Miau\n"
          ]
        }
      ]
    },
    {
      "cell_type": "code",
      "source": [
        "#Estamos creando una nueva clase (personas)\n",
        "class Persona:\n",
        "  def __init__(self, nombre, edad):\n",
        "    self.nombre=nombre\n",
        "    self.edad =edad\n",
        "\n"
      ],
      "metadata": {
        "id": "4oSBtE6qrALq"
      },
      "execution_count": 27,
      "outputs": []
    },
    {
      "cell_type": "code",
      "source": [
        "Daniela = Persona(\"Daniela\", 21)"
      ],
      "metadata": {
        "id": "XOmHjm8_ribZ"
      },
      "execution_count": 28,
      "outputs": []
    },
    {
      "cell_type": "code",
      "source": [
        "Daniela.nombre"
      ],
      "metadata": {
        "colab": {
          "base_uri": "https://localhost:8080/",
          "height": 36
        },
        "id": "xdto3g4br8qd",
        "outputId": "a0433db8-ed8f-42ec-d2a5-834bb99e1d1c"
      },
      "execution_count": 29,
      "outputs": [
        {
          "output_type": "execute_result",
          "data": {
            "text/plain": [
              "'Daniela'"
            ],
            "application/vnd.google.colaboratory.intrinsic+json": {
              "type": "string"
            }
          },
          "metadata": {},
          "execution_count": 29
        }
      ]
    },
    {
      "cell_type": "code",
      "source": [
        "Daniela.edad"
      ],
      "metadata": {
        "colab": {
          "base_uri": "https://localhost:8080/"
        },
        "id": "DASGHvOJsNuc",
        "outputId": "23e7722b-1761-4d14-80ae-7c412e888e8a"
      },
      "execution_count": 30,
      "outputs": [
        {
          "output_type": "execute_result",
          "data": {
            "text/plain": [
              "21"
            ]
          },
          "metadata": {},
          "execution_count": 30
        }
      ]
    }
  ]
}