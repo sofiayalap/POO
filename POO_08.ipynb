{
  "cells": [
    {
      "cell_type": "markdown",
      "metadata": {
        "id": "HY887tezoANO"
      },
      "source": [
        "# OOP - Inheritance and Polymorphism in Python"
      ]
    },
    {
      "cell_type": "code",
      "execution_count": null,
      "metadata": {
        "id": "pxLRgSSxoANR"
      },
      "outputs": [],
      "source": [
        "#CLASE MAESTRA\n",
        "class Animal(): #Objeto al que se le asignaran distintos atributos\n",
        "\n",
        "    def __init__(self): #Inicializar la clase  #\"Self\" es autoasignación\n",
        "        print(\"Animal class creada\")\n",
        "\n",
        "    def guess_who(self):\n",
        "        print(\"Soy un animalito\")\n",
        "\n",
        "    def sleep(self):\n",
        "        print(\"Estoy durmiendo\")"
      ]
    },
    {
      "cell_type": "code",
      "execution_count": null,
      "metadata": {
        "id": "nEmsoWZgoANR",
        "outputId": "329a349f-493c-4d71-ece1-172f981ffb36",
        "colab": {
          "base_uri": "https://localhost:8080/"
        }
      },
      "outputs": [
        {
          "output_type": "stream",
          "name": "stdout",
          "text": [
            "Animal class creada\n"
          ]
        }
      ],
      "source": [
        "my_animal = Animal() #Cuando no ponemos nada adentro se llama \"cursor\""
      ]
    },
    {
      "cell_type": "code",
      "execution_count": null,
      "metadata": {
        "id": "1E85DdT4oANS",
        "outputId": "abb77591-69c6-43c7-d621-b251d30f2d38",
        "colab": {
          "base_uri": "https://localhost:8080/"
        }
      },
      "outputs": [
        {
          "output_type": "stream",
          "name": "stdout",
          "text": [
            "Estoy durmiendo\n"
          ]
        }
      ],
      "source": [
        "my_animal.sleep() #Ingresar a la función \"sleep\" a la clase #El punto es para ingresar a la función de la clase"
      ]
    },
    {
      "cell_type": "code",
      "execution_count": null,
      "metadata": {
        "id": "1pMg4fJ3oANS"
      },
      "outputs": [],
      "source": [
        "#CLASE HERENCIA\n",
        "class Cat(Animal): #Esta nueva clase se obtiene a partir de (la clase anterior o clase maestra), subordinando a ésta.\n",
        "\n",
        "    def __init__(self): #Inicializar funciones dentro de la clase Cat\n",
        "        Animal.__init__(self)#Inizializa la clase maestra dentro de la subordinada\n",
        "        print(\"Cat class creada\")\n",
        "\n",
        "    def guess_who(self):\n",
        "        print(\"Soy un gatito\")\n",
        "\n",
        "    def meow(self):\n",
        "        print(\"MEOWW!\")"
      ]
    },
    {
      "cell_type": "code",
      "execution_count": null,
      "metadata": {
        "id": "d_GJe14ioANT",
        "outputId": "6d3e737b-8765-405b-be4d-9c5f61e7c6f4"
      },
      "outputs": [
        {
          "name": "stdout",
          "output_type": "stream",
          "text": [
            "Animal class created\n",
            "Cat class created\n"
          ]
        }
      ],
      "source": [
        "my_cat = Cat() #Este cursor es de la clase heredada"
      ]
    },
    {
      "cell_type": "code",
      "execution_count": null,
      "metadata": {
        "id": "Q_F54Py6oANT",
        "outputId": "c2417f40-70ea-402a-b994-76ca346f80d8"
      },
      "outputs": [
        {
          "name": "stdout",
          "output_type": "stream",
          "text": [
            "I am a cat\n"
          ]
        }
      ],
      "source": [
        "my_cat.guess_who()"
      ]
    },
    {
      "cell_type": "code",
      "execution_count": null,
      "metadata": {
        "id": "Pt4MmGPOoANT",
        "outputId": "3286f3a5-a4b8-420b-ecab-c2e3e80cbdd4"
      },
      "outputs": [
        {
          "name": "stdout",
          "output_type": "stream",
          "text": [
            "MEOWW!\n"
          ]
        }
      ],
      "source": [
        "my_cat.meow() #Este cursor me va a decir a que clase pertenece (es la clase heredada, no la clase madre)"
      ]
    },
    {
      "cell_type": "markdown",
      "metadata": {
        "id": "2-RCIT2OoANT"
      },
      "source": [
        "## Polymorphism\n",
        "\n"
      ]
    },
    {
      "cell_type": "code",
      "execution_count": 1,
      "metadata": {
        "id": "3doTm2KgoANU"
      },
      "outputs": [],
      "source": [
        "class Doggy():\n",
        "\n",
        "    def __init__(self,name):\n",
        "        self.name = name\n",
        "\n",
        "    def speak(self):\n",
        "        return self.name + \" says WOOF\""
      ]
    },
    {
      "cell_type": "code",
      "execution_count": 2,
      "metadata": {
        "id": "nGiW3SdboANU"
      },
      "outputs": [],
      "source": [
        "class Catty():\n",
        "\n",
        "    def __init__(self,name):\n",
        "        self.name = name\n",
        "\n",
        "    def speak(self):\n",
        "        return self.name + \" says MEOW\""
      ]
    },
    {
      "cell_type": "code",
      "execution_count": 3,
      "metadata": {
        "id": "p5JWA0i6oANU"
      },
      "outputs": [],
      "source": [
        "my_dog = Doggy(\"Buzo\")\n",
        "my_cat = Catty(\"Tim\")"
      ]
    },
    {
      "cell_type": "code",
      "execution_count": 4,
      "metadata": {
        "id": "4FYvR1ZFoANU",
        "outputId": "cba69418-83fb-4de7-bad2-de8486b139a3",
        "colab": {
          "base_uri": "https://localhost:8080/"
        }
      },
      "outputs": [
        {
          "output_type": "stream",
          "name": "stdout",
          "text": [
            "Buzo says WOOF\n"
          ]
        }
      ],
      "source": [
        "print(my_dog.speak())"
      ]
    },
    {
      "cell_type": "code",
      "execution_count": 5,
      "metadata": {
        "id": "GDPh4tBYoANU",
        "outputId": "8bcd386c-f741-48d2-fc4a-7d0f9dbaf2ec",
        "colab": {
          "base_uri": "https://localhost:8080/"
        }
      },
      "outputs": [
        {
          "output_type": "stream",
          "name": "stdout",
          "text": [
            "Tim says MEOW\n"
          ]
        }
      ],
      "source": [
        "print(my_cat.speak())"
      ]
    },
    {
      "cell_type": "markdown",
      "metadata": {
        "id": "wtIpBDWyoANU"
      },
      "source": [
        "So notice that \"my_dog\" and \"my_cat\" have the same method name called \"speak\" but they have different types of class as seen."
      ]
    },
    {
      "cell_type": "code",
      "execution_count": 6,
      "metadata": {
        "id": "zYHlZlE_oANU",
        "outputId": "667b5428-216a-4c55-bed9-4c69bd41cb26",
        "colab": {
          "base_uri": "https://localhost:8080/"
        }
      },
      "outputs": [
        {
          "output_type": "stream",
          "name": "stdout",
          "text": [
            "<class '__main__.Doggy'>\n",
            "<class 'str'>\n",
            "Buzo says WOOF\n",
            "<class '__main__.Catty'>\n",
            "<class 'str'>\n",
            "Tim says MEOW\n"
          ]
        }
      ],
      "source": [
        "for pet in [my_dog, my_cat]:\n",
        "    print(type(pet))\n",
        "    print(type(pet.speak()))\n",
        "    print(pet.speak())"
      ]
    },
    {
      "cell_type": "markdown",
      "metadata": {
        "id": "9JJqd0geoANV"
      },
      "source": [
        "## Abstract classes and inheritance\n",
        "\n",
        "Abstract classes are never expected to be instantiated. An instance of such a class is never expected to be made. It is designed to only serve as a base class."
      ]
    },
    {
      "cell_type": "code",
      "execution_count": null,
      "metadata": {
        "id": "LErgUbOKoANV"
      },
      "outputs": [],
      "source": [
        "class Animal():\n",
        "\n",
        "    def __init__(self,name):\n",
        "        self.name = name\n",
        "\n",
        "    def speak(self):\n",
        "        raise NotImplementedError(\"Subclass must implement this abtract method\")"
      ]
    },
    {
      "cell_type": "code",
      "execution_count": null,
      "metadata": {
        "id": "vbMNTm4foANV"
      },
      "outputs": [],
      "source": [
        "my_animal = Animal(\"Tia\")"
      ]
    },
    {
      "cell_type": "code",
      "execution_count": null,
      "metadata": {
        "id": "4FfUFGV8oANV",
        "outputId": "c9444d27-76ae-4b1b-d8c7-f23c254cedd9"
      },
      "outputs": [
        {
          "ename": "NotImplementedError",
          "evalue": "Subclass must implement this abtract method",
          "output_type": "error",
          "traceback": [
            "\u001b[1;31m---------------------------------------------------------------------------\u001b[0m",
            "\u001b[1;31mNotImplementedError\u001b[0m                       Traceback (most recent call last)",
            "\u001b[1;32m<ipython-input-28-ed4198de9ea6>\u001b[0m in \u001b[0;36m<module>\u001b[1;34m\u001b[0m\n\u001b[1;32m----> 1\u001b[1;33m \u001b[0mmy_animal\u001b[0m\u001b[1;33m.\u001b[0m\u001b[0mspeak\u001b[0m\u001b[1;33m(\u001b[0m\u001b[1;33m)\u001b[0m\u001b[1;33m\u001b[0m\u001b[1;33m\u001b[0m\u001b[0m\n\u001b[0m",
            "\u001b[1;32m<ipython-input-26-977e7051d647>\u001b[0m in \u001b[0;36mspeak\u001b[1;34m(self)\u001b[0m\n\u001b[0;32m      5\u001b[0m \u001b[1;33m\u001b[0m\u001b[0m\n\u001b[0;32m      6\u001b[0m     \u001b[1;32mdef\u001b[0m \u001b[0mspeak\u001b[0m\u001b[1;33m(\u001b[0m\u001b[0mself\u001b[0m\u001b[1;33m)\u001b[0m\u001b[1;33m:\u001b[0m\u001b[1;33m\u001b[0m\u001b[1;33m\u001b[0m\u001b[0m\n\u001b[1;32m----> 7\u001b[1;33m         \u001b[1;32mraise\u001b[0m \u001b[0mNotImplementedError\u001b[0m\u001b[1;33m(\u001b[0m\u001b[1;34m\"Subclass must implement this abtract method\"\u001b[0m\u001b[1;33m)\u001b[0m\u001b[1;33m\u001b[0m\u001b[1;33m\u001b[0m\u001b[0m\n\u001b[0m",
            "\u001b[1;31mNotImplementedError\u001b[0m: Subclass must implement this abtract method"
          ]
        }
      ],
      "source": [
        "my_animal.speak()"
      ]
    },
    {
      "cell_type": "markdown",
      "metadata": {
        "id": "ZTmzuh4koANV"
      },
      "source": [
        "So now an error is raised since this class was never supposed to be instantiated. This is a abstract class because in the base class it is not doing anything and expects you to inherit this class and overwrite the method. Infact we need to create a subclass and implement this method which we will see below."
      ]
    },
    {
      "cell_type": "code",
      "execution_count": null,
      "metadata": {
        "id": "gdLighsToANV"
      },
      "outputs": [],
      "source": [
        "class Dog(Animal):\n",
        "\n",
        "    def speak(self):\n",
        "        return self.name + \" says Woof!\""
      ]
    },
    {
      "cell_type": "code",
      "execution_count": null,
      "metadata": {
        "id": "3dTrkyJPoANV"
      },
      "outputs": [],
      "source": [
        "class Cat(Animal):\n",
        "\n",
        "    def speak(self):\n",
        "        return self.name + \" says Meow!\""
      ]
    },
    {
      "cell_type": "code",
      "execution_count": null,
      "metadata": {
        "id": "o7cWdhAVoANW"
      },
      "outputs": [],
      "source": [
        "jim = Dog(\"Jim\")"
      ]
    },
    {
      "cell_type": "code",
      "execution_count": null,
      "metadata": {
        "id": "amq5rU39oANW"
      },
      "outputs": [],
      "source": [
        "tim = Cat(\"Tim\")"
      ]
    },
    {
      "cell_type": "code",
      "execution_count": null,
      "metadata": {
        "id": "EQ3rO4ayoANW",
        "outputId": "9503c90c-9b99-4cab-dc3d-94b63ef67df2"
      },
      "outputs": [
        {
          "name": "stdout",
          "output_type": "stream",
          "text": [
            "Jim says Woof!\n"
          ]
        }
      ],
      "source": [
        "print(jim.speak())"
      ]
    },
    {
      "cell_type": "code",
      "execution_count": null,
      "metadata": {
        "id": "gYKTAXSXoANW",
        "outputId": "61c1439a-f61d-4fe8-bd6f-99b927b24d17"
      },
      "outputs": [
        {
          "name": "stdout",
          "output_type": "stream",
          "text": [
            "Tim says Meow!\n"
          ]
        }
      ],
      "source": [
        "print(tim.speak())"
      ]
    },
    {
      "cell_type": "code",
      "execution_count": null,
      "metadata": {
        "id": "Tltj7Rk3oANW"
      },
      "outputs": [],
      "source": []
    }
  ],
  "metadata": {
    "kernelspec": {
      "display_name": "Python 3",
      "language": "python",
      "name": "python3"
    },
    "language_info": {
      "codemirror_mode": {
        "name": "ipython",
        "version": 3
      },
      "file_extension": ".py",
      "mimetype": "text/x-python",
      "name": "python",
      "nbconvert_exporter": "python",
      "pygments_lexer": "ipython3",
      "version": "3.7.7"
    },
    "colab": {
      "provenance": []
    }
  },
  "nbformat": 4,
  "nbformat_minor": 0
}