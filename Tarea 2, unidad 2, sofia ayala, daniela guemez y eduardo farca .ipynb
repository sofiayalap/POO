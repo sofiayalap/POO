{
 "cells": [
  {
   "cell_type": "markdown",
   "id": "08d6cd83",
   "metadata": {},
   "source": [
    "Tarea 2 unidad 2"
   ]
  },
  {
   "cell_type": "markdown",
   "id": "0af3bd98",
   "metadata": {},
   "source": [
    "1. Carga la base de datos precios_muestra.csv y calcula lo siguiente:"
   ]
  },
  {
   "cell_type": "markdown",
   "id": "8cb9aa3d",
   "metadata": {},
   "source": [
    "• los rendimientos simples;\n",
    "• la media y la desviación estándar de los rendimientos."
   ]
  },
  {
   "cell_type": "code",
   "execution_count": 1,
   "id": "964e108d",
   "metadata": {},
   "outputs": [
    {
     "data": {
      "text/html": [
       "<div>\n",
       "<style scoped>\n",
       "    .dataframe tbody tr th:only-of-type {\n",
       "        vertical-align: middle;\n",
       "    }\n",
       "\n",
       "    .dataframe tbody tr th {\n",
       "        vertical-align: top;\n",
       "    }\n",
       "\n",
       "    .dataframe thead th {\n",
       "        text-align: right;\n",
       "    }\n",
       "</style>\n",
       "<table border=\"1\" class=\"dataframe\">\n",
       "  <thead>\n",
       "    <tr style=\"text-align: right;\">\n",
       "      <th></th>\n",
       "      <th>BLUE</th>\n",
       "      <th>ORANGE</th>\n",
       "    </tr>\n",
       "  </thead>\n",
       "  <tbody>\n",
       "    <tr>\n",
       "      <th>0</th>\n",
       "      <td>8.7000</td>\n",
       "      <td>10.6600</td>\n",
       "    </tr>\n",
       "    <tr>\n",
       "      <th>1</th>\n",
       "      <td>8.9055</td>\n",
       "      <td>11.0828</td>\n",
       "    </tr>\n",
       "    <tr>\n",
       "      <th>2</th>\n",
       "      <td>8.7113</td>\n",
       "      <td>10.7100</td>\n",
       "    </tr>\n",
       "    <tr>\n",
       "      <th>3</th>\n",
       "      <td>8.4346</td>\n",
       "      <td>11.5907</td>\n",
       "    </tr>\n",
       "    <tr>\n",
       "      <th>4</th>\n",
       "      <td>8.7254</td>\n",
       "      <td>12.1070</td>\n",
       "    </tr>\n",
       "    <tr>\n",
       "      <th>5</th>\n",
       "      <td>9.0551</td>\n",
       "      <td>11.7876</td>\n",
       "    </tr>\n",
       "    <tr>\n",
       "      <th>6</th>\n",
       "      <td>8.9514</td>\n",
       "      <td>11.2078</td>\n",
       "    </tr>\n",
       "    <tr>\n",
       "      <th>7</th>\n",
       "      <td>9.2439</td>\n",
       "      <td>12.5192</td>\n",
       "    </tr>\n",
       "    <tr>\n",
       "      <th>8</th>\n",
       "      <td>9.1276</td>\n",
       "      <td>13.3624</td>\n",
       "    </tr>\n",
       "    <tr>\n",
       "      <th>9</th>\n",
       "      <td>9.3976</td>\n",
       "      <td>14.4080</td>\n",
       "    </tr>\n",
       "    <tr>\n",
       "      <th>10</th>\n",
       "      <td>9.4554</td>\n",
       "      <td>11.9837</td>\n",
       "    </tr>\n",
       "    <tr>\n",
       "      <th>11</th>\n",
       "      <td>9.5704</td>\n",
       "      <td>12.2718</td>\n",
       "    </tr>\n",
       "    <tr>\n",
       "      <th>12</th>\n",
       "      <td>9.7728</td>\n",
       "      <td>11.5892</td>\n",
       "    </tr>\n",
       "  </tbody>\n",
       "</table>\n",
       "</div>"
      ],
      "text/plain": [
       "      BLUE   ORANGE\n",
       "0   8.7000  10.6600\n",
       "1   8.9055  11.0828\n",
       "2   8.7113  10.7100\n",
       "3   8.4346  11.5907\n",
       "4   8.7254  12.1070\n",
       "5   9.0551  11.7876\n",
       "6   8.9514  11.2078\n",
       "7   9.2439  12.5192\n",
       "8   9.1276  13.3624\n",
       "9   9.3976  14.4080\n",
       "10  9.4554  11.9837\n",
       "11  9.5704  12.2718\n",
       "12  9.7728  11.5892"
      ]
     },
     "execution_count": 1,
     "metadata": {},
     "output_type": "execute_result"
    }
   ],
   "source": [
    "import pandas as pd\n",
    "\n",
    "d = pd.read_csv(\"precios_muestra.csv\")\n",
    "d"
   ]
  },
  {
   "cell_type": "code",
   "execution_count": 2,
   "id": "28b78743",
   "metadata": {},
   "outputs": [
    {
     "data": {
      "text/html": [
       "<div>\n",
       "<style scoped>\n",
       "    .dataframe tbody tr th:only-of-type {\n",
       "        vertical-align: middle;\n",
       "    }\n",
       "\n",
       "    .dataframe tbody tr th {\n",
       "        vertical-align: top;\n",
       "    }\n",
       "\n",
       "    .dataframe thead th {\n",
       "        text-align: right;\n",
       "    }\n",
       "</style>\n",
       "<table border=\"1\" class=\"dataframe\">\n",
       "  <thead>\n",
       "    <tr style=\"text-align: right;\">\n",
       "      <th></th>\n",
       "      <th>BLUE</th>\n",
       "      <th>ORANGE</th>\n",
       "    </tr>\n",
       "  </thead>\n",
       "  <tbody>\n",
       "    <tr>\n",
       "      <th>1</th>\n",
       "      <td>0.023621</td>\n",
       "      <td>0.039662</td>\n",
       "    </tr>\n",
       "    <tr>\n",
       "      <th>2</th>\n",
       "      <td>-0.021807</td>\n",
       "      <td>-0.033638</td>\n",
       "    </tr>\n",
       "    <tr>\n",
       "      <th>3</th>\n",
       "      <td>-0.031763</td>\n",
       "      <td>0.082232</td>\n",
       "    </tr>\n",
       "    <tr>\n",
       "      <th>4</th>\n",
       "      <td>0.034477</td>\n",
       "      <td>0.044544</td>\n",
       "    </tr>\n",
       "    <tr>\n",
       "      <th>5</th>\n",
       "      <td>0.037786</td>\n",
       "      <td>-0.026381</td>\n",
       "    </tr>\n",
       "    <tr>\n",
       "      <th>6</th>\n",
       "      <td>-0.011452</td>\n",
       "      <td>-0.049187</td>\n",
       "    </tr>\n",
       "    <tr>\n",
       "      <th>7</th>\n",
       "      <td>0.032676</td>\n",
       "      <td>0.117008</td>\n",
       "    </tr>\n",
       "    <tr>\n",
       "      <th>8</th>\n",
       "      <td>-0.012581</td>\n",
       "      <td>0.067353</td>\n",
       "    </tr>\n",
       "    <tr>\n",
       "      <th>9</th>\n",
       "      <td>0.029581</td>\n",
       "      <td>0.078249</td>\n",
       "    </tr>\n",
       "    <tr>\n",
       "      <th>10</th>\n",
       "      <td>0.006151</td>\n",
       "      <td>-0.168261</td>\n",
       "    </tr>\n",
       "    <tr>\n",
       "      <th>11</th>\n",
       "      <td>0.012162</td>\n",
       "      <td>0.024041</td>\n",
       "    </tr>\n",
       "    <tr>\n",
       "      <th>12</th>\n",
       "      <td>0.021149</td>\n",
       "      <td>-0.055623</td>\n",
       "    </tr>\n",
       "  </tbody>\n",
       "</table>\n",
       "</div>"
      ],
      "text/plain": [
       "        BLUE    ORANGE\n",
       "1   0.023621  0.039662\n",
       "2  -0.021807 -0.033638\n",
       "3  -0.031763  0.082232\n",
       "4   0.034477  0.044544\n",
       "5   0.037786 -0.026381\n",
       "6  -0.011452 -0.049187\n",
       "7   0.032676  0.117008\n",
       "8  -0.012581  0.067353\n",
       "9   0.029581  0.078249\n",
       "10  0.006151 -0.168261\n",
       "11  0.012162  0.024041\n",
       "12  0.021149 -0.055623"
      ]
     },
     "execution_count": 2,
     "metadata": {},
     "output_type": "execute_result"
    }
   ],
   "source": [
    "rs= d.pct_change().dropna()\n",
    "rs #Rendimientos simples"
   ]
  },
  {
   "cell_type": "code",
   "execution_count": 3,
   "id": "f80041d9",
   "metadata": {},
   "outputs": [
    {
     "data": {
      "text/html": [
       "<div>\n",
       "<style scoped>\n",
       "    .dataframe tbody tr th:only-of-type {\n",
       "        vertical-align: middle;\n",
       "    }\n",
       "\n",
       "    .dataframe tbody tr th {\n",
       "        vertical-align: top;\n",
       "    }\n",
       "\n",
       "    .dataframe thead th {\n",
       "        text-align: right;\n",
       "    }\n",
       "</style>\n",
       "<table border=\"1\" class=\"dataframe\">\n",
       "  <thead>\n",
       "    <tr style=\"text-align: right;\">\n",
       "      <th></th>\n",
       "      <th>BLUE</th>\n",
       "      <th>ORANGE</th>\n",
       "    </tr>\n",
       "  </thead>\n",
       "  <tbody>\n",
       "    <tr>\n",
       "      <th>count</th>\n",
       "      <td>12.000000</td>\n",
       "      <td>12.000000</td>\n",
       "    </tr>\n",
       "    <tr>\n",
       "      <th>mean</th>\n",
       "      <td>0.010000</td>\n",
       "      <td>0.010000</td>\n",
       "    </tr>\n",
       "    <tr>\n",
       "      <th>std</th>\n",
       "      <td>0.023977</td>\n",
       "      <td>0.079601</td>\n",
       "    </tr>\n",
       "    <tr>\n",
       "      <th>min</th>\n",
       "      <td>-0.031763</td>\n",
       "      <td>-0.168261</td>\n",
       "    </tr>\n",
       "    <tr>\n",
       "      <th>25%</th>\n",
       "      <td>-0.011734</td>\n",
       "      <td>-0.037525</td>\n",
       "    </tr>\n",
       "    <tr>\n",
       "      <th>50%</th>\n",
       "      <td>0.016655</td>\n",
       "      <td>0.031852</td>\n",
       "    </tr>\n",
       "    <tr>\n",
       "      <th>75%</th>\n",
       "      <td>0.030355</td>\n",
       "      <td>0.070077</td>\n",
       "    </tr>\n",
       "    <tr>\n",
       "      <th>max</th>\n",
       "      <td>0.037786</td>\n",
       "      <td>0.117008</td>\n",
       "    </tr>\n",
       "  </tbody>\n",
       "</table>\n",
       "</div>"
      ],
      "text/plain": [
       "            BLUE     ORANGE\n",
       "count  12.000000  12.000000\n",
       "mean    0.010000   0.010000\n",
       "std     0.023977   0.079601\n",
       "min    -0.031763  -0.168261\n",
       "25%    -0.011734  -0.037525\n",
       "50%     0.016655   0.031852\n",
       "75%     0.030355   0.070077\n",
       "max     0.037786   0.117008"
      ]
     },
     "execution_count": 3,
     "metadata": {},
     "output_type": "execute_result"
    }
   ],
   "source": [
    "rs.describe() #media y la desviación estándar de los rendimientos\n"
   ]
  },
  {
   "cell_type": "markdown",
   "id": "f9200cfa",
   "metadata": {},
   "source": [
    "2.- Ahora que tenemos una serie de rendimientos de 12 meses, podemos producir el rendimiento com- puesto multiplicando los rendimientos de los períodos individuales, siempre y cuando los rendimien- tos se expresen como tasas de crecimiento."
   ]
  },
  {
   "cell_type": "code",
   "execution_count": 4,
   "id": "50cab412",
   "metadata": {},
   "outputs": [
    {
     "data": {
      "text/plain": [
       "BLUE      0.123310\n",
       "ORANGE    0.087167\n",
       "dtype: float64"
      ]
     },
     "execution_count": 4,
     "metadata": {},
     "output_type": "execute_result"
    }
   ],
   "source": [
    "rc0 =(rs+1).prod()\n",
    "rc=(rc0 - 1) #tasa de crecimiento anual\n",
    "rc"
   ]
  },
  {
   "cell_type": "markdown",
   "id": "63f4db0f",
   "metadata": {},
   "source": [
    "3.Anualiza un 1% mensual, un 4% trimestral y un 0,01% de rentabilidad diaria."
   ]
  },
  {
   "cell_type": "code",
   "execution_count": 5,
   "id": "78e3219e",
   "metadata": {},
   "outputs": [
    {
     "data": {
      "text/plain": [
       "BLUE      3.036427\n",
       "ORANGE    1.726183\n",
       "dtype: float64"
      ]
     },
     "execution_count": 5,
     "metadata": {},
     "output_type": "execute_result"
    }
   ],
   "source": [
    "rcmensual = (rc+1)**(12)-1\n",
    "rcmensual #Rendimiento mensual de la tasa"
   ]
  },
  {
   "cell_type": "code",
   "execution_count": 6,
   "id": "71279bc2",
   "metadata": {},
   "outputs": [
    {
     "data": {
      "text/plain": [
       "BLUE      0.592205\n",
       "ORANGE    0.396963\n",
       "dtype: float64"
      ]
     },
     "execution_count": 6,
     "metadata": {},
     "output_type": "execute_result"
    }
   ],
   "source": [
    "rctrimestral = (rc+1)**(4)-1\n",
    "rctrimestral #Rendimiento trimestral de la tasa"
   ]
  },
  {
   "cell_type": "code",
   "execution_count": 7,
   "id": "dfa091ac",
   "metadata": {},
   "outputs": [
    {
     "data": {
      "text/plain": [
       "BLUE      5.320337e+12\n",
       "ORANGE    1.401702e+09\n",
       "dtype: float64"
      ]
     },
     "execution_count": 7,
     "metadata": {},
     "output_type": "execute_result"
    }
   ],
   "source": [
    "rcdiario = (rc+1)**(252)-1\n",
    "rcdiario #Rendimiento diario de la tasa"
   ]
  },
  {
   "cell_type": "markdown",
   "id": "133ede06",
   "metadata": {},
   "source": [
    "Ahora lo hacemos con 1% mensual, un 4% trimestral y un 0,01% de rentabilidad diaria."
   ]
  },
  {
   "cell_type": "code",
   "execution_count": 8,
   "id": "8c7fed13",
   "metadata": {},
   "outputs": [
    {
     "data": {
      "text/plain": [
       "BLUE      3.036427\n",
       "ORANGE    1.726183\n",
       "dtype: float64"
      ]
     },
     "execution_count": 8,
     "metadata": {},
     "output_type": "execute_result"
    }
   ],
   "source": [
    "rcmensualt = (.01+1)**(12)-1\n",
    "rcmensual #Rendimiento mensual de la tasa de %1"
   ]
  },
  {
   "cell_type": "code",
   "execution_count": 9,
   "id": "c4ec31d7",
   "metadata": {},
   "outputs": [
    {
     "data": {
      "text/plain": [
       "BLUE      0.592205\n",
       "ORANGE    0.396963\n",
       "dtype: float64"
      ]
     },
     "execution_count": 9,
     "metadata": {},
     "output_type": "execute_result"
    }
   ],
   "source": [
    "rctrimestralt = (.04+1)**(4)-1\n",
    "rctrimestral #Rendimiento trimestral de la tasa"
   ]
  },
  {
   "cell_type": "code",
   "execution_count": 10,
   "id": "59cca1af",
   "metadata": {},
   "outputs": [
    {
     "data": {
      "text/plain": [
       "BLUE      5.320337e+12\n",
       "ORANGE    1.401702e+09\n",
       "dtype: float64"
      ]
     },
     "execution_count": 10,
     "metadata": {},
     "output_type": "execute_result"
    }
   ],
   "source": [
    "rcdiariot = (.0001+1)**(252)-1\n",
    "rcdiario #Rendimiento diario de la tasa"
   ]
  },
  {
   "cell_type": "markdown",
   "id": "d52c475d",
   "metadata": {},
   "source": [
    "4.- Ahora, anualiza la volatilidad escalándola (multiplicándola) por la raíz cuadrada del número de períodos por observación."
   ]
  },
  {
   "cell_type": "code",
   "execution_count": 11,
   "id": "87a4eb3d",
   "metadata": {},
   "outputs": [
    {
     "data": {
      "text/plain": [
       "BLUE      0.000095\n",
       "ORANGE    0.000316\n",
       "dtype: float64"
      ]
     },
     "execution_count": 11,
     "metadata": {},
     "output_type": "execute_result"
    }
   ],
   "source": [
    "import numpy as np\n",
    "\n",
    "volatilidad = rs.std()*(1/252)\n",
    "volatilidad"
   ]
  },
  {
   "cell_type": "markdown",
   "id": "13e31d45",
   "metadata": {},
   "source": [
    "5.- En tu Módulo (que creaste en las sesiones), escribe atributos a tu clase ya formada en donde calcules el rendimiento compuesto y en donde anualices rendimientos."
   ]
  },
  {
   "cell_type": "code",
   "execution_count": 12,
   "id": "7ed3801c",
   "metadata": {},
   "outputs": [],
   "source": [
    "import finanzas"
   ]
  },
  {
   "cell_type": "code",
   "execution_count": 13,
   "id": "93ad1268",
   "metadata": {},
   "outputs": [],
   "source": [
    "from finanzas import Asset"
   ]
  },
  {
   "cell_type": "code",
   "execution_count": 14,
   "id": "6e9b90a7",
   "metadata": {},
   "outputs": [],
   "source": [
    "asset= Asset (\"AAPL\", \"2019-01-01\")"
   ]
  },
  {
   "cell_type": "code",
   "execution_count": 15,
   "id": "c975ca0a",
   "metadata": {},
   "outputs": [
    {
     "name": "stdout",
     "output_type": "stream",
     "text": [
      "[*********************100%%**********************]  1 of 1 completed\n"
     ]
    },
    {
     "data": {
      "text/html": [
       "<div>\n",
       "<style scoped>\n",
       "    .dataframe tbody tr th:only-of-type {\n",
       "        vertical-align: middle;\n",
       "    }\n",
       "\n",
       "    .dataframe tbody tr th {\n",
       "        vertical-align: top;\n",
       "    }\n",
       "\n",
       "    .dataframe thead th {\n",
       "        text-align: right;\n",
       "    }\n",
       "</style>\n",
       "<table border=\"1\" class=\"dataframe\">\n",
       "  <thead>\n",
       "    <tr style=\"text-align: right;\">\n",
       "      <th></th>\n",
       "      <th>Open</th>\n",
       "      <th>High</th>\n",
       "      <th>Low</th>\n",
       "      <th>Close</th>\n",
       "      <th>Adj Close</th>\n",
       "      <th>Volume</th>\n",
       "    </tr>\n",
       "    <tr>\n",
       "      <th>Date</th>\n",
       "      <th></th>\n",
       "      <th></th>\n",
       "      <th></th>\n",
       "      <th></th>\n",
       "      <th></th>\n",
       "      <th></th>\n",
       "    </tr>\n",
       "  </thead>\n",
       "  <tbody>\n",
       "    <tr>\n",
       "      <th>2019-01-02</th>\n",
       "      <td>38.722500</td>\n",
       "      <td>39.712502</td>\n",
       "      <td>38.557499</td>\n",
       "      <td>39.480000</td>\n",
       "      <td>37.943260</td>\n",
       "      <td>148158800</td>\n",
       "    </tr>\n",
       "    <tr>\n",
       "      <th>2019-01-03</th>\n",
       "      <td>35.994999</td>\n",
       "      <td>36.430000</td>\n",
       "      <td>35.500000</td>\n",
       "      <td>35.547501</td>\n",
       "      <td>34.163818</td>\n",
       "      <td>365248800</td>\n",
       "    </tr>\n",
       "    <tr>\n",
       "      <th>2019-01-04</th>\n",
       "      <td>36.132500</td>\n",
       "      <td>37.137501</td>\n",
       "      <td>35.950001</td>\n",
       "      <td>37.064999</td>\n",
       "      <td>35.622265</td>\n",
       "      <td>234428400</td>\n",
       "    </tr>\n",
       "    <tr>\n",
       "      <th>2019-01-07</th>\n",
       "      <td>37.174999</td>\n",
       "      <td>37.207500</td>\n",
       "      <td>36.474998</td>\n",
       "      <td>36.982498</td>\n",
       "      <td>35.542965</td>\n",
       "      <td>219111200</td>\n",
       "    </tr>\n",
       "    <tr>\n",
       "      <th>2019-01-08</th>\n",
       "      <td>37.389999</td>\n",
       "      <td>37.955002</td>\n",
       "      <td>37.130001</td>\n",
       "      <td>37.687500</td>\n",
       "      <td>36.220531</td>\n",
       "      <td>164101200</td>\n",
       "    </tr>\n",
       "    <tr>\n",
       "      <th>...</th>\n",
       "      <td>...</td>\n",
       "      <td>...</td>\n",
       "      <td>...</td>\n",
       "      <td>...</td>\n",
       "      <td>...</td>\n",
       "      <td>...</td>\n",
       "    </tr>\n",
       "    <tr>\n",
       "      <th>2023-10-16</th>\n",
       "      <td>176.750000</td>\n",
       "      <td>179.080002</td>\n",
       "      <td>176.509995</td>\n",
       "      <td>178.720001</td>\n",
       "      <td>178.720001</td>\n",
       "      <td>52517000</td>\n",
       "    </tr>\n",
       "    <tr>\n",
       "      <th>2023-10-17</th>\n",
       "      <td>176.649994</td>\n",
       "      <td>178.419998</td>\n",
       "      <td>174.800003</td>\n",
       "      <td>177.149994</td>\n",
       "      <td>177.149994</td>\n",
       "      <td>57549400</td>\n",
       "    </tr>\n",
       "    <tr>\n",
       "      <th>2023-10-18</th>\n",
       "      <td>175.580002</td>\n",
       "      <td>177.580002</td>\n",
       "      <td>175.110001</td>\n",
       "      <td>175.839996</td>\n",
       "      <td>175.839996</td>\n",
       "      <td>54764400</td>\n",
       "    </tr>\n",
       "    <tr>\n",
       "      <th>2023-10-19</th>\n",
       "      <td>176.039993</td>\n",
       "      <td>177.839996</td>\n",
       "      <td>175.190002</td>\n",
       "      <td>175.460007</td>\n",
       "      <td>175.460007</td>\n",
       "      <td>59302900</td>\n",
       "    </tr>\n",
       "    <tr>\n",
       "      <th>2023-10-20</th>\n",
       "      <td>175.309998</td>\n",
       "      <td>175.419998</td>\n",
       "      <td>172.639999</td>\n",
       "      <td>172.880005</td>\n",
       "      <td>172.880005</td>\n",
       "      <td>64189300</td>\n",
       "    </tr>\n",
       "  </tbody>\n",
       "</table>\n",
       "<p>1210 rows × 6 columns</p>\n",
       "</div>"
      ],
      "text/plain": [
       "                  Open        High         Low       Close   Adj Close  \\\n",
       "Date                                                                     \n",
       "2019-01-02   38.722500   39.712502   38.557499   39.480000   37.943260   \n",
       "2019-01-03   35.994999   36.430000   35.500000   35.547501   34.163818   \n",
       "2019-01-04   36.132500   37.137501   35.950001   37.064999   35.622265   \n",
       "2019-01-07   37.174999   37.207500   36.474998   36.982498   35.542965   \n",
       "2019-01-08   37.389999   37.955002   37.130001   37.687500   36.220531   \n",
       "...                ...         ...         ...         ...         ...   \n",
       "2023-10-16  176.750000  179.080002  176.509995  178.720001  178.720001   \n",
       "2023-10-17  176.649994  178.419998  174.800003  177.149994  177.149994   \n",
       "2023-10-18  175.580002  177.580002  175.110001  175.839996  175.839996   \n",
       "2023-10-19  176.039993  177.839996  175.190002  175.460007  175.460007   \n",
       "2023-10-20  175.309998  175.419998  172.639999  172.880005  172.880005   \n",
       "\n",
       "               Volume  \n",
       "Date                   \n",
       "2019-01-02  148158800  \n",
       "2019-01-03  365248800  \n",
       "2019-01-04  234428400  \n",
       "2019-01-07  219111200  \n",
       "2019-01-08  164101200  \n",
       "...               ...  \n",
       "2023-10-16   52517000  \n",
       "2023-10-17   57549400  \n",
       "2023-10-18   54764400  \n",
       "2023-10-19   59302900  \n",
       "2023-10-20   64189300  \n",
       "\n",
       "[1210 rows x 6 columns]"
      ]
     },
     "execution_count": 15,
     "metadata": {},
     "output_type": "execute_result"
    }
   ],
   "source": [
    "asset.get_data()"
   ]
  },
  {
   "cell_type": "code",
   "execution_count": 16,
   "id": "01a80196",
   "metadata": {},
   "outputs": [
    {
     "name": "stdout",
     "output_type": "stream",
     "text": [
      "[*********************100%%**********************]  1 of 1 completed\n"
     ]
    },
    {
     "data": {
      "text/plain": [
       "Date\n",
       "2019-01-03   -0.099607\n",
       "2019-01-04    0.042689\n",
       "2019-01-07   -0.002226\n",
       "2019-01-08    0.019063\n",
       "2019-01-09    0.016982\n",
       "                ...   \n",
       "2023-10-16   -0.000727\n",
       "2023-10-17   -0.008785\n",
       "2023-10-18   -0.007395\n",
       "2023-10-19   -0.002161\n",
       "2023-10-20   -0.014704\n",
       "Name: Close, Length: 1209, dtype: float64"
      ]
     },
     "execution_count": 16,
     "metadata": {},
     "output_type": "execute_result"
    }
   ],
   "source": [
    "asset.simple_returns()"
   ]
  },
  {
   "cell_type": "code",
   "execution_count": 17,
   "id": "4b4e5be4",
   "metadata": {},
   "outputs": [],
   "source": [
    "def compound_returns(simple_returns):\n",
    "        compund_returns = (simple_returns + 1).prod()\n",
    "        return compund_returns"
   ]
  },
  {
   "cell_type": "code",
   "execution_count": 18,
   "id": "2458f54d",
   "metadata": {
    "scrolled": true
   },
   "outputs": [
    {
     "name": "stdout",
     "output_type": "stream",
     "text": [
      "[*********************100%%**********************]  1 of 1 completed\n"
     ]
    },
    {
     "data": {
      "text/plain": [
       "4.3789262129515185"
      ]
     },
     "execution_count": 18,
     "metadata": {},
     "output_type": "execute_result"
    }
   ],
   "source": [
    "cr = compound_returns(asset.simple_returns())\n",
    "cr"
   ]
  },
  {
   "cell_type": "code",
   "execution_count": 19,
   "id": "25a2171c",
   "metadata": {},
   "outputs": [],
   "source": [
    "def annualized_returns():\n",
    "    annualized_returns = ((asset.simple_returns()+1)**(252))-1\n",
    "    return annualized_returns"
   ]
  },
  {
   "cell_type": "code",
   "execution_count": 20,
   "id": "31ced249",
   "metadata": {},
   "outputs": [
    {
     "name": "stdout",
     "output_type": "stream",
     "text": [
      "[*********************100%%**********************]  1 of 1 completed\n"
     ]
    },
    {
     "data": {
      "text/plain": [
       "Date\n",
       "2019-01-03       -1.000000\n",
       "2019-01-04    37586.145166\n",
       "2019-01-07       -0.429667\n",
       "2019-01-08      115.593257\n",
       "2019-01-09       68.649065\n",
       "                  ...     \n",
       "2023-10-16       -0.167435\n",
       "2023-10-17       -0.891774\n",
       "2023-10-18       -0.845942\n",
       "2023-10-19       -0.420251\n",
       "2023-10-20       -0.976078\n",
       "Name: Close, Length: 1209, dtype: float64"
      ]
     },
     "execution_count": 20,
     "metadata": {},
     "output_type": "execute_result"
    }
   ],
   "source": [
    "annualized_returns()"
   ]
  },
  {
   "cell_type": "code",
   "execution_count": null,
   "id": "30ae8404",
   "metadata": {},
   "outputs": [],
   "source": []
  },
  {
   "cell_type": "markdown",
   "id": "8dc3e1e9",
   "metadata": {},
   "source": [
    "6.- Crea un DataFrame a partir de un diccionario cuyas columnas sean “Stock A” y “Stock B”. Cada\n",
    "columna tendrá 10 valores que deberás elegir a partir de una distribución normal con parámetros\n",
    "10 (media) y 2 (desviación estándar)."
   ]
  },
  {
   "cell_type": "code",
   "execution_count": 21,
   "id": "b67bbba8",
   "metadata": {},
   "outputs": [
    {
     "data": {
      "text/plain": [
       "{'StockA': array([ 5.40310124,  8.23193458, 12.01716584, 11.58875574,  9.5699894 ,\n",
       "         9.87777887,  4.91055369,  8.80899794, 12.93773126,  6.08542271]),\n",
       " 'StockB': array([ 9.68478424,  7.75449578,  9.01476455,  9.22184727,  7.10228046,\n",
       "        11.53566165, 11.37658367,  8.52288063, 11.42058904, 12.89914373])}"
      ]
     },
     "execution_count": 21,
     "metadata": {},
     "output_type": "execute_result"
    }
   ],
   "source": [
    "stock = {\"StockA\": np.random.normal(10,2,10), \"StockB\": np.random.normal(10,2,10)}\n",
    "stock"
   ]
  },
  {
   "cell_type": "code",
   "execution_count": 22,
   "id": "e19743ef",
   "metadata": {},
   "outputs": [
    {
     "data": {
      "text/html": [
       "<div>\n",
       "<style scoped>\n",
       "    .dataframe tbody tr th:only-of-type {\n",
       "        vertical-align: middle;\n",
       "    }\n",
       "\n",
       "    .dataframe tbody tr th {\n",
       "        vertical-align: top;\n",
       "    }\n",
       "\n",
       "    .dataframe thead th {\n",
       "        text-align: right;\n",
       "    }\n",
       "</style>\n",
       "<table border=\"1\" class=\"dataframe\">\n",
       "  <thead>\n",
       "    <tr style=\"text-align: right;\">\n",
       "      <th></th>\n",
       "      <th>StockA</th>\n",
       "      <th>StockB</th>\n",
       "    </tr>\n",
       "  </thead>\n",
       "  <tbody>\n",
       "    <tr>\n",
       "      <th>0</th>\n",
       "      <td>5.403101</td>\n",
       "      <td>9.684784</td>\n",
       "    </tr>\n",
       "    <tr>\n",
       "      <th>1</th>\n",
       "      <td>8.231935</td>\n",
       "      <td>7.754496</td>\n",
       "    </tr>\n",
       "    <tr>\n",
       "      <th>2</th>\n",
       "      <td>12.017166</td>\n",
       "      <td>9.014765</td>\n",
       "    </tr>\n",
       "    <tr>\n",
       "      <th>3</th>\n",
       "      <td>11.588756</td>\n",
       "      <td>9.221847</td>\n",
       "    </tr>\n",
       "    <tr>\n",
       "      <th>4</th>\n",
       "      <td>9.569989</td>\n",
       "      <td>7.102280</td>\n",
       "    </tr>\n",
       "    <tr>\n",
       "      <th>5</th>\n",
       "      <td>9.877779</td>\n",
       "      <td>11.535662</td>\n",
       "    </tr>\n",
       "    <tr>\n",
       "      <th>6</th>\n",
       "      <td>4.910554</td>\n",
       "      <td>11.376584</td>\n",
       "    </tr>\n",
       "    <tr>\n",
       "      <th>7</th>\n",
       "      <td>8.808998</td>\n",
       "      <td>8.522881</td>\n",
       "    </tr>\n",
       "    <tr>\n",
       "      <th>8</th>\n",
       "      <td>12.937731</td>\n",
       "      <td>11.420589</td>\n",
       "    </tr>\n",
       "    <tr>\n",
       "      <th>9</th>\n",
       "      <td>6.085423</td>\n",
       "      <td>12.899144</td>\n",
       "    </tr>\n",
       "  </tbody>\n",
       "</table>\n",
       "</div>"
      ],
      "text/plain": [
       "      StockA     StockB\n",
       "0   5.403101   9.684784\n",
       "1   8.231935   7.754496\n",
       "2  12.017166   9.014765\n",
       "3  11.588756   9.221847\n",
       "4   9.569989   7.102280\n",
       "5   9.877779  11.535662\n",
       "6   4.910554  11.376584\n",
       "7   8.808998   8.522881\n",
       "8  12.937731  11.420589\n",
       "9   6.085423  12.899144"
      ]
     },
     "execution_count": 22,
     "metadata": {},
     "output_type": "execute_result"
    }
   ],
   "source": [
    "import pandas as pd\n",
    "stocks = pd.DataFrame(stock)\n",
    "stocks"
   ]
  },
  {
   "cell_type": "markdown",
   "id": "7503755e",
   "metadata": {},
   "source": [
    "7.- Usando las funciones ya creadas en tu Módulo, calcular el rendimiento total (compuesto) durante\n",
    "todo el período de tiempo. También, calcula la media y la desviación estándar de cada Stock.\n",
    "Después, anualiza la desviación estándar. "
   ]
  },
  {
   "cell_type": "code",
   "execution_count": 23,
   "id": "8e58fadc",
   "metadata": {},
   "outputs": [
    {
     "data": {
      "text/html": [
       "<div>\n",
       "<style scoped>\n",
       "    .dataframe tbody tr th:only-of-type {\n",
       "        vertical-align: middle;\n",
       "    }\n",
       "\n",
       "    .dataframe tbody tr th {\n",
       "        vertical-align: top;\n",
       "    }\n",
       "\n",
       "    .dataframe thead th {\n",
       "        text-align: right;\n",
       "    }\n",
       "</style>\n",
       "<table border=\"1\" class=\"dataframe\">\n",
       "  <thead>\n",
       "    <tr style=\"text-align: right;\">\n",
       "      <th></th>\n",
       "      <th>StockA</th>\n",
       "      <th>StockB</th>\n",
       "    </tr>\n",
       "  </thead>\n",
       "  <tbody>\n",
       "    <tr>\n",
       "      <th>count</th>\n",
       "      <td>10.000000</td>\n",
       "      <td>10.000000</td>\n",
       "    </tr>\n",
       "    <tr>\n",
       "      <th>mean</th>\n",
       "      <td>8.943143</td>\n",
       "      <td>9.853303</td>\n",
       "    </tr>\n",
       "    <tr>\n",
       "      <th>std</th>\n",
       "      <td>2.811803</td>\n",
       "      <td>1.878465</td>\n",
       "    </tr>\n",
       "    <tr>\n",
       "      <th>min</th>\n",
       "      <td>4.910554</td>\n",
       "      <td>7.102280</td>\n",
       "    </tr>\n",
       "    <tr>\n",
       "      <th>25%</th>\n",
       "      <td>6.622051</td>\n",
       "      <td>8.645852</td>\n",
       "    </tr>\n",
       "    <tr>\n",
       "      <th>50%</th>\n",
       "      <td>9.189494</td>\n",
       "      <td>9.453316</td>\n",
       "    </tr>\n",
       "    <tr>\n",
       "      <th>75%</th>\n",
       "      <td>11.161012</td>\n",
       "      <td>11.409588</td>\n",
       "    </tr>\n",
       "    <tr>\n",
       "      <th>max</th>\n",
       "      <td>12.937731</td>\n",
       "      <td>12.899144</td>\n",
       "    </tr>\n",
       "  </tbody>\n",
       "</table>\n",
       "</div>"
      ],
      "text/plain": [
       "          StockA     StockB\n",
       "count  10.000000  10.000000\n",
       "mean    8.943143   9.853303\n",
       "std     2.811803   1.878465\n",
       "min     4.910554   7.102280\n",
       "25%     6.622051   8.645852\n",
       "50%     9.189494   9.453316\n",
       "75%    11.161012  11.409588\n",
       "max    12.937731  12.899144"
      ]
     },
     "execution_count": 23,
     "metadata": {},
     "output_type": "execute_result"
    }
   ],
   "source": [
    "stocks.describe()"
   ]
  },
  {
   "cell_type": "code",
   "execution_count": 24,
   "id": "a45dad6a",
   "metadata": {},
   "outputs": [
    {
     "data": {
      "text/html": [
       "<div>\n",
       "<style scoped>\n",
       "    .dataframe tbody tr th:only-of-type {\n",
       "        vertical-align: middle;\n",
       "    }\n",
       "\n",
       "    .dataframe tbody tr th {\n",
       "        vertical-align: top;\n",
       "    }\n",
       "\n",
       "    .dataframe thead th {\n",
       "        text-align: right;\n",
       "    }\n",
       "</style>\n",
       "<table border=\"1\" class=\"dataframe\">\n",
       "  <thead>\n",
       "    <tr style=\"text-align: right;\">\n",
       "      <th></th>\n",
       "      <th>StockA</th>\n",
       "      <th>StockB</th>\n",
       "    </tr>\n",
       "  </thead>\n",
       "  <tbody>\n",
       "    <tr>\n",
       "      <th>1</th>\n",
       "      <td>0.523557</td>\n",
       "      <td>-0.199311</td>\n",
       "    </tr>\n",
       "    <tr>\n",
       "      <th>2</th>\n",
       "      <td>0.459823</td>\n",
       "      <td>0.162521</td>\n",
       "    </tr>\n",
       "    <tr>\n",
       "      <th>3</th>\n",
       "      <td>-0.035650</td>\n",
       "      <td>0.022972</td>\n",
       "    </tr>\n",
       "    <tr>\n",
       "      <th>4</th>\n",
       "      <td>-0.174200</td>\n",
       "      <td>-0.229842</td>\n",
       "    </tr>\n",
       "    <tr>\n",
       "      <th>5</th>\n",
       "      <td>0.032162</td>\n",
       "      <td>0.624219</td>\n",
       "    </tr>\n",
       "    <tr>\n",
       "      <th>6</th>\n",
       "      <td>-0.502869</td>\n",
       "      <td>-0.013790</td>\n",
       "    </tr>\n",
       "    <tr>\n",
       "      <th>7</th>\n",
       "      <td>0.793891</td>\n",
       "      <td>-0.250840</td>\n",
       "    </tr>\n",
       "    <tr>\n",
       "      <th>8</th>\n",
       "      <td>0.468695</td>\n",
       "      <td>0.339992</td>\n",
       "    </tr>\n",
       "    <tr>\n",
       "      <th>9</th>\n",
       "      <td>-0.529638</td>\n",
       "      <td>0.129464</td>\n",
       "    </tr>\n",
       "  </tbody>\n",
       "</table>\n",
       "</div>"
      ],
      "text/plain": [
       "     StockA    StockB\n",
       "1  0.523557 -0.199311\n",
       "2  0.459823  0.162521\n",
       "3 -0.035650  0.022972\n",
       "4 -0.174200 -0.229842\n",
       "5  0.032162  0.624219\n",
       "6 -0.502869 -0.013790\n",
       "7  0.793891 -0.250840\n",
       "8  0.468695  0.339992\n",
       "9 -0.529638  0.129464"
      ]
     },
     "execution_count": 24,
     "metadata": {},
     "output_type": "execute_result"
    }
   ],
   "source": [
    "srs= stocks.pct_change().dropna()\n",
    "srs"
   ]
  },
  {
   "cell_type": "code",
   "execution_count": 25,
   "id": "590238d0",
   "metadata": {},
   "outputs": [
    {
     "data": {
      "text/plain": [
       "StockA    1.126283\n",
       "StockB    1.331898\n",
       "dtype: float64"
      ]
     },
     "execution_count": 25,
     "metadata": {},
     "output_type": "execute_result"
    }
   ],
   "source": [
    "crs = compound_returns(srs)\n",
    "crs"
   ]
  },
  {
   "cell_type": "code",
   "execution_count": 26,
   "id": "ed18bd77",
   "metadata": {},
   "outputs": [],
   "source": [
    "annualized2 = ((1+srs)**252)-1"
   ]
  },
  {
   "cell_type": "code",
   "execution_count": 27,
   "id": "60650611",
   "metadata": {},
   "outputs": [
    {
     "data": {
      "text/html": [
       "<div>\n",
       "<style scoped>\n",
       "    .dataframe tbody tr th:only-of-type {\n",
       "        vertical-align: middle;\n",
       "    }\n",
       "\n",
       "    .dataframe tbody tr th {\n",
       "        vertical-align: top;\n",
       "    }\n",
       "\n",
       "    .dataframe thead th {\n",
       "        text-align: right;\n",
       "    }\n",
       "</style>\n",
       "<table border=\"1\" class=\"dataframe\">\n",
       "  <thead>\n",
       "    <tr style=\"text-align: right;\">\n",
       "      <th></th>\n",
       "      <th>StockA</th>\n",
       "      <th>StockB</th>\n",
       "    </tr>\n",
       "  </thead>\n",
       "  <tbody>\n",
       "    <tr>\n",
       "      <th>1</th>\n",
       "      <td>1.203425e+46</td>\n",
       "      <td>-1.000000e+00</td>\n",
       "    </tr>\n",
       "    <tr>\n",
       "      <th>2</th>\n",
       "      <td>2.533007e+41</td>\n",
       "      <td>3.026967e+16</td>\n",
       "    </tr>\n",
       "    <tr>\n",
       "      <th>3</th>\n",
       "      <td>-9.998935e-01</td>\n",
       "      <td>3.049225e+02</td>\n",
       "    </tr>\n",
       "    <tr>\n",
       "      <th>4</th>\n",
       "      <td>-1.000000e+00</td>\n",
       "      <td>-1.000000e+00</td>\n",
       "    </tr>\n",
       "    <tr>\n",
       "      <th>5</th>\n",
       "      <td>2.912777e+03</td>\n",
       "      <td>1.209100e+53</td>\n",
       "    </tr>\n",
       "    <tr>\n",
       "      <th>6</th>\n",
       "      <td>-1.000000e+00</td>\n",
       "      <td>-9.697812e-01</td>\n",
       "    </tr>\n",
       "    <tr>\n",
       "      <th>7</th>\n",
       "      <td>9.049056e+63</td>\n",
       "      <td>-1.000000e+00</td>\n",
       "    </tr>\n",
       "    <tr>\n",
       "      <th>8</th>\n",
       "      <td>1.166185e+42</td>\n",
       "      <td>1.070850e+32</td>\n",
       "    </tr>\n",
       "    <tr>\n",
       "      <th>9</th>\n",
       "      <td>-1.000000e+00</td>\n",
       "      <td>2.107848e+13</td>\n",
       "    </tr>\n",
       "  </tbody>\n",
       "</table>\n",
       "</div>"
      ],
      "text/plain": [
       "         StockA        StockB\n",
       "1  1.203425e+46 -1.000000e+00\n",
       "2  2.533007e+41  3.026967e+16\n",
       "3 -9.998935e-01  3.049225e+02\n",
       "4 -1.000000e+00 -1.000000e+00\n",
       "5  2.912777e+03  1.209100e+53\n",
       "6 -1.000000e+00 -9.697812e-01\n",
       "7  9.049056e+63 -1.000000e+00\n",
       "8  1.166185e+42  1.070850e+32\n",
       "9 -1.000000e+00  2.107848e+13"
      ]
     },
     "execution_count": 27,
     "metadata": {},
     "output_type": "execute_result"
    }
   ],
   "source": [
    "annualized2"
   ]
  },
  {
   "cell_type": "markdown",
   "id": "6192b5ac",
   "metadata": {},
   "source": [
    "8.- Crea dos activos artificiales que llamarás “AA” y “BB”, respectivamente. Supongamos que un\n",
    "cierto activo “AA” pierde 1% por mes durante 12 meses y un cierto activo “BB” gana 1% por mes\n",
    "para los 12 meses. ¿Cuál es el activo más volátil? Recuerda que la volatilidad se mide a\n",
    "través de la desviación estándar.\n"
   ]
  },
  {
   "cell_type": "code",
   "execution_count": 28,
   "id": "b3773950",
   "metadata": {},
   "outputs": [
    {
     "name": "stdout",
     "output_type": "stream",
     "text": [
      "Volatilidad de AA: 1.734723475976807e-18\n",
      "Volatilidad de BB: 1.734723475976807e-18\n",
      "El activo más volátil es: Los dos activos son iguales de Volatiles\n"
     ]
    }
   ],
   "source": [
    "import numpy as np\n",
    "\n",
    "retornos_AA = [-0.01] * 12  # \"AA\" pierde 1% por mes durante 12 meses\n",
    "retornos_BB = [0.01] * 12   # \"BB\" gana 1% por mes durante 12 meses\n",
    "\n",
    "# Calcular la desviación estándar de los retornos para \"AA\" y \"BB\"\n",
    "volatilidad_AA = np.std(retornos_AA)\n",
    "volatilidad_BB = np.std(retornos_BB)\n",
    "\n",
    "# Comprobar cuál de los dos activos es más volátil\n",
    "if volatilidad_AA > volatilidad_BB:\n",
    "    activo_mas_volatil = \"AA\"\n",
    "elif volatilidad_AA < volatilidad_BB:\n",
    "    activo_mas_volatil = \"BB\"\n",
    "else:\n",
    "    activo_mas_volatil = \"Los dos activos son iguales de Volatiles\"\n",
    "    \n",
    "print(f\"Volatilidad de AA: {volatilidad_AA}\")\n",
    "print(f\"Volatilidad de BB: {volatilidad_BB}\")\n",
    "print(f\"El activo más volátil es: {activo_mas_volatil}\")"
   ]
  },
  {
   "cell_type": "markdown",
   "id": "b893a3b1",
   "metadata": {},
   "source": [
    "9.- Usando tu Módulo, descarga los tickers “AMZN”, “KO”, “MSFT” desde el primero de enero\n",
    "del 2011 hasta el primero de enero del 2019. Realiza un análisis financiero usando lo visto en clase\n",
    "y los incisos anteriores. Finalmente, realiza un histograma para los rendimientos de cada ticker.\n",
    "¿Qué observas de los histogramas?"
   ]
  },
  {
   "cell_type": "code",
   "execution_count": 29,
   "id": "61c95555",
   "metadata": {},
   "outputs": [
    {
     "name": "stdout",
     "output_type": "stream",
     "text": [
      "[*********************100%%**********************]  3 of 3 completed\n"
     ]
    },
    {
     "data": {
      "text/html": [
       "<div>\n",
       "<style scoped>\n",
       "    .dataframe tbody tr th:only-of-type {\n",
       "        vertical-align: middle;\n",
       "    }\n",
       "\n",
       "    .dataframe tbody tr th {\n",
       "        vertical-align: top;\n",
       "    }\n",
       "\n",
       "    .dataframe thead th {\n",
       "        text-align: right;\n",
       "    }\n",
       "</style>\n",
       "<table border=\"1\" class=\"dataframe\">\n",
       "  <thead>\n",
       "    <tr style=\"text-align: right;\">\n",
       "      <th></th>\n",
       "      <th>AMZN</th>\n",
       "      <th>KO</th>\n",
       "      <th>MSFT</th>\n",
       "    </tr>\n",
       "  </thead>\n",
       "  <tbody>\n",
       "    <tr>\n",
       "      <th>count</th>\n",
       "      <td>2012.000000</td>\n",
       "      <td>2012.000000</td>\n",
       "      <td>2012.000000</td>\n",
       "    </tr>\n",
       "    <tr>\n",
       "      <th>mean</th>\n",
       "      <td>30.203726</td>\n",
       "      <td>40.678596</td>\n",
       "      <td>50.711501</td>\n",
       "    </tr>\n",
       "    <tr>\n",
       "      <th>std</th>\n",
       "      <td>23.634649</td>\n",
       "      <td>4.098414</td>\n",
       "      <td>24.076450</td>\n",
       "    </tr>\n",
       "    <tr>\n",
       "      <th>min</th>\n",
       "      <td>8.048500</td>\n",
       "      <td>30.799999</td>\n",
       "      <td>23.709999</td>\n",
       "    </tr>\n",
       "    <tr>\n",
       "      <th>25%</th>\n",
       "      <td>12.892750</td>\n",
       "      <td>38.150002</td>\n",
       "      <td>30.740000</td>\n",
       "    </tr>\n",
       "    <tr>\n",
       "      <th>50%</th>\n",
       "      <td>18.757000</td>\n",
       "      <td>41.169998</td>\n",
       "      <td>44.400002</td>\n",
       "    </tr>\n",
       "    <tr>\n",
       "      <th>75%</th>\n",
       "      <td>40.900001</td>\n",
       "      <td>43.602499</td>\n",
       "      <td>62.650000</td>\n",
       "    </tr>\n",
       "    <tr>\n",
       "      <th>max</th>\n",
       "      <td>101.975502</td>\n",
       "      <td>50.509998</td>\n",
       "      <td>115.610001</td>\n",
       "    </tr>\n",
       "  </tbody>\n",
       "</table>\n",
       "</div>"
      ],
      "text/plain": [
       "              AMZN           KO         MSFT\n",
       "count  2012.000000  2012.000000  2012.000000\n",
       "mean     30.203726    40.678596    50.711501\n",
       "std      23.634649     4.098414    24.076450\n",
       "min       8.048500    30.799999    23.709999\n",
       "25%      12.892750    38.150002    30.740000\n",
       "50%      18.757000    41.169998    44.400002\n",
       "75%      40.900001    43.602499    62.650000\n",
       "max     101.975502    50.509998   115.610001"
      ]
     },
     "execution_count": 29,
     "metadata": {},
     "output_type": "execute_result"
    }
   ],
   "source": [
    "tickers= ([\"AMZN\", \"KO\", \"MSFT\"])\n",
    "df= Asset (tickers, \"2011-01-01\",\"2019-01-01\")\n",
    "ejercicio9=df.get_data()\n",
    "ejercicio9[\"Close\"]\n",
    "\n",
    "\n",
    "ejercicio9[\"Close\"].describe()"
   ]
  },
  {
   "cell_type": "code",
   "execution_count": 30,
   "id": "1b2bb32d",
   "metadata": {},
   "outputs": [
    {
     "data": {
      "text/html": [
       "<div>\n",
       "<style scoped>\n",
       "    .dataframe tbody tr th:only-of-type {\n",
       "        vertical-align: middle;\n",
       "    }\n",
       "\n",
       "    .dataframe tbody tr th {\n",
       "        vertical-align: top;\n",
       "    }\n",
       "\n",
       "    .dataframe thead th {\n",
       "        text-align: right;\n",
       "    }\n",
       "</style>\n",
       "<table border=\"1\" class=\"dataframe\">\n",
       "  <thead>\n",
       "    <tr style=\"text-align: right;\">\n",
       "      <th></th>\n",
       "      <th>AMZN</th>\n",
       "      <th>KO</th>\n",
       "      <th>MSFT</th>\n",
       "    </tr>\n",
       "    <tr>\n",
       "      <th>Date</th>\n",
       "      <th></th>\n",
       "      <th></th>\n",
       "      <th></th>\n",
       "    </tr>\n",
       "  </thead>\n",
       "  <tbody>\n",
       "    <tr>\n",
       "      <th>2011-01-03</th>\n",
       "      <td>NaN</td>\n",
       "      <td>NaN</td>\n",
       "      <td>NaN</td>\n",
       "    </tr>\n",
       "    <tr>\n",
       "      <th>2011-01-04</th>\n",
       "      <td>0.004288</td>\n",
       "      <td>-0.020699</td>\n",
       "      <td>0.003931</td>\n",
       "    </tr>\n",
       "    <tr>\n",
       "      <th>2011-01-05</th>\n",
       "      <td>0.013026</td>\n",
       "      <td>-0.005950</td>\n",
       "      <td>-0.003204</td>\n",
       "    </tr>\n",
       "    <tr>\n",
       "      <th>2011-01-06</th>\n",
       "      <td>-0.008324</td>\n",
       "      <td>-0.007245</td>\n",
       "      <td>0.029286</td>\n",
       "    </tr>\n",
       "    <tr>\n",
       "      <th>2011-01-07</th>\n",
       "      <td>-0.001991</td>\n",
       "      <td>-0.001745</td>\n",
       "      <td>-0.007634</td>\n",
       "    </tr>\n",
       "    <tr>\n",
       "      <th>...</th>\n",
       "      <td>...</td>\n",
       "      <td>...</td>\n",
       "      <td>...</td>\n",
       "    </tr>\n",
       "    <tr>\n",
       "      <th>2018-12-24</th>\n",
       "      <td>-0.024313</td>\n",
       "      <td>-0.033845</td>\n",
       "      <td>-0.041739</td>\n",
       "    </tr>\n",
       "    <tr>\n",
       "      <th>2018-12-26</th>\n",
       "      <td>0.094452</td>\n",
       "      <td>0.021323</td>\n",
       "      <td>0.068310</td>\n",
       "    </tr>\n",
       "    <tr>\n",
       "      <th>2018-12-27</th>\n",
       "      <td>-0.006295</td>\n",
       "      <td>0.012569</td>\n",
       "      <td>0.006166</td>\n",
       "    </tr>\n",
       "    <tr>\n",
       "      <th>2018-12-28</th>\n",
       "      <td>0.011207</td>\n",
       "      <td>-0.006943</td>\n",
       "      <td>-0.007808</td>\n",
       "    </tr>\n",
       "    <tr>\n",
       "      <th>2018-12-31</th>\n",
       "      <td>0.016204</td>\n",
       "      <td>0.003178</td>\n",
       "      <td>0.011754</td>\n",
       "    </tr>\n",
       "  </tbody>\n",
       "</table>\n",
       "<p>2012 rows × 3 columns</p>\n",
       "</div>"
      ],
      "text/plain": [
       "                AMZN        KO      MSFT\n",
       "Date                                    \n",
       "2011-01-03       NaN       NaN       NaN\n",
       "2011-01-04  0.004288 -0.020699  0.003931\n",
       "2011-01-05  0.013026 -0.005950 -0.003204\n",
       "2011-01-06 -0.008324 -0.007245  0.029286\n",
       "2011-01-07 -0.001991 -0.001745 -0.007634\n",
       "...              ...       ...       ...\n",
       "2018-12-24 -0.024313 -0.033845 -0.041739\n",
       "2018-12-26  0.094452  0.021323  0.068310\n",
       "2018-12-27 -0.006295  0.012569  0.006166\n",
       "2018-12-28  0.011207 -0.006943 -0.007808\n",
       "2018-12-31  0.016204  0.003178  0.011754\n",
       "\n",
       "[2012 rows x 3 columns]"
      ]
     },
     "execution_count": 30,
     "metadata": {},
     "output_type": "execute_result"
    }
   ],
   "source": [
    "retornos= ejercicio9[\"Close\"].pct_change()\n",
    "retornos"
   ]
  },
  {
   "cell_type": "code",
   "execution_count": 31,
   "id": "71a12015",
   "metadata": {},
   "outputs": [
    {
     "data": {
      "text/plain": [
       "AMZN    0.001241\n",
       "KO      0.000227\n",
       "MSFT    0.000748\n",
       "dtype: float64"
      ]
     },
     "execution_count": 31,
     "metadata": {},
     "output_type": "execute_result"
    }
   ],
   "source": [
    "retornos.mean()"
   ]
  },
  {
   "cell_type": "code",
   "execution_count": 32,
   "id": "58f154c2",
   "metadata": {},
   "outputs": [
    {
     "data": {
      "text/plain": [
       "AMZN    0.000397\n",
       "KO      0.000083\n",
       "MSFT    0.000213\n",
       "dtype: float64"
      ]
     },
     "execution_count": 32,
     "metadata": {},
     "output_type": "execute_result"
    }
   ],
   "source": [
    "varianza=retornos.var()\n",
    "varianza"
   ]
  },
  {
   "cell_type": "code",
   "execution_count": 33,
   "id": "c20fd37c",
   "metadata": {},
   "outputs": [
    {
     "data": {
      "image/png": "[encoded data removed]",
      "text/plain": [
       "<Figure size 640x480 with 1 Axes>"
      ]
     },
     "metadata": {},
     "output_type": "display_data"
    }
   ],
   "source": [
    "import matplotlib.pyplot as plt\n",
    "plt.hist(retornos, bins=30)\n",
    "plt.title(\"Histograma de rendimientos\")\n",
    "plt.show()\n",
    "#Del histograma encontramos que la variacion de los retornos se encuentra entre -0.05 y 0.05"
   ]
  },
  {
   "cell_type": "markdown",
   "id": "aefa3edd",
   "metadata": {},
   "source": [
    "10.- Bosqueja la serie de tiempo para cada ticker del inciso anterior. ¿Cuáles son tus conclusiones?"
   ]
  },
  {
   "cell_type": "code",
   "execution_count": 34,
   "id": "63de1cc0",
   "metadata": {},
   "outputs": [
    {
     "data": {
      "text/plain": [
       "<Axes: xlabel='Date'>"
      ]
     },
     "execution_count": 34,
     "metadata": {},
     "output_type": "execute_result"
    },
    {
     "data": {
      "image/png": "[encoded data removed]",
      "text/plain": [
       "<Figure size 640x480 with 1 Axes>"
      ]
     },
     "metadata": {},
     "output_type": "display_data"
    }
   ],
   "source": [
    "retornos.plot()\n",
    "#Conclusion de serie de tiempo es que AMZN es más volatil que KO y MSFT"
   ]
  },
  {
   "cell_type": "code",
   "execution_count": null,
   "id": "50df5061",
   "metadata": {},
   "outputs": [],
   "source": []
  }
 ],
 "metadata": {
  "kernelspec": {
   "display_name": "Python 3 (ipykernel)",
   "language": "python",
   "name": "python3"
  },
  "language_info": {
   "codemirror_mode": {
    "name": "ipython",
    "version": 3
   },
   "file_extension": ".py",
   "mimetype": "text/x-python",
   "name": "python",
   "nbconvert_exporter": "python",
   "pygments_lexer": "ipython3",
   "version": "3.11.5"
  }
 },
 "nbformat": 4,
 "nbformat_minor": 5
}
