{
  "nbformat": 4,
  "nbformat_minor": 0,
  "metadata": {
    "colab": {
      "provenance": []
    },
    "kernelspec": {
      "name": "python3",
      "display_name": "Python 3"
    },
    "language_info": {
      "name": "python"
    }
  },
  "cells": [
    {
      "cell_type": "markdown",
      "source": [
        "#Condicionales"
      ],
      "metadata": {
        "id": "DzzIRvNMZeix"
      }
    },
    {
      "cell_type": "code",
      "execution_count": null,
      "metadata": {
        "colab": {
          "base_uri": "https://localhost:8080/"
        },
        "id": "vNy_8IYnZZYv",
        "outputId": "b87cedb4-56fd-42b2-e2c1-c874695ed50a"
      },
      "outputs": [
        {
          "output_type": "stream",
          "name": "stdout",
          "text": [
            "El número no es par\n"
          ]
        }
      ],
      "source": [
        "#Ejemplo\n",
        "x=3\n",
        "\n",
        "if x % 2 == 0:\n",
        "  if x > 10:\n",
        "    print(\"El número es par y es mayor a 10\")\n",
        "  else:\n",
        "    print(\"El número es par pero no es mayor a 10\")\n",
        "else:\n",
        "  print(\"El número no es par\")\n"
      ]
    }
  ]
}